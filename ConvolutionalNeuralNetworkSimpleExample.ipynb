{
  "nbformat": 4,
  "nbformat_minor": 0,
  "metadata": {
    "colab": {
      "name": "ConvolutionalNeuralNetworkSimpleExample.ipynb",
      "provenance": [],
      "collapsed_sections": [],
      "authorship_tag": "ABX9TyPdJyk+33YGc6yyT5PqP2Ua",
      "include_colab_link": true
    },
    "kernelspec": {
      "name": "python3",
      "display_name": "Python 3"
    }
  },
  "cells": [
    {
      "cell_type": "markdown",
      "metadata": {
        "id": "view-in-github",
        "colab_type": "text"
      },
      "source": [
        "<a href=\"https://colab.research.google.com/github/NicoGangi5/Deep_Neural_Networks_with_PyTorch/blob/main/ConvolutionalNeuralNetworkSimpleExample.ipynb\" target=\"_parent\"><img src=\"https://colab.research.google.com/assets/colab-badge.svg\" alt=\"Open In Colab\"/></a>"
      ]
    },
    {
      "cell_type": "markdown",
      "metadata": {
        "id": "PlZA6rjP8HOB"
      },
      "source": [
        "# Helper functions"
      ]
    },
    {
      "cell_type": "code",
      "metadata": {
        "colab": {
          "base_uri": "https://localhost:8080/"
        },
        "id": "rNWmapoA70CH",
        "outputId": "92a6fa1d-77a3-4838-f53b-1d6f01f7a694"
      },
      "source": [
        "import torch \n",
        "import torch.nn as nn\n",
        "import torchvision.transforms as transforms\n",
        "import torchvision.datasets as dsets\n",
        "import matplotlib.pylab as plt\n",
        "import numpy as np\n",
        "import pandas as pd\n",
        "torch.manual_seed(4)"
      ],
      "execution_count": null,
      "outputs": [
        {
          "output_type": "execute_result",
          "data": {
            "text/plain": [
              "<torch._C.Generator at 0x7f3c1e112b10>"
            ]
          },
          "metadata": {
            "tags": []
          },
          "execution_count": 2
        }
      ]
    },
    {
      "cell_type": "code",
      "metadata": {
        "id": "BqbcQb918NOj"
      },
      "source": [
        "def plot_channels(W):\n",
        "    #number of output channels \n",
        "    n_out=W.shape[0]\n",
        "    #number of input channels \n",
        "    n_in=W.shape[1]\n",
        "    w_min=W.min().item()\n",
        "    w_max=W.max().item()\n",
        "    fig, axes = plt.subplots(n_out,n_in)\n",
        "    fig.subplots_adjust(hspace = 0.1)\n",
        "    out_index=0\n",
        "    in_index=0\n",
        "    #plot outputs as rows inputs as columns \n",
        "    for ax in axes.flat:\n",
        "    \n",
        "        if in_index>n_in-1:\n",
        "            out_index=out_index+1\n",
        "            in_index=0\n",
        "              \n",
        "        ax.imshow(W[out_index,in_index,:,:], vmin=w_min, vmax=w_max, cmap='seismic')\n",
        "        ax.set_yticklabels([])\n",
        "        ax.set_xticklabels([])\n",
        "        in_index=in_index+1\n",
        "\n",
        "    plt.show()"
      ],
      "execution_count": null,
      "outputs": []
    },
    {
      "cell_type": "code",
      "metadata": {
        "id": "f5Iih6LE8PG8"
      },
      "source": [
        "def show_data(dataset,sample):\n",
        "\n",
        "    plt.imshow(dataset.x[sample,0,:,:].numpy(),cmap='gray')\n",
        "    plt.title('y='+str(dataset.y[sample].item()))\n",
        "    plt.show()"
      ],
      "execution_count": null,
      "outputs": []
    },
    {
      "cell_type": "code",
      "metadata": {
        "id": "411YmAzw8RQ8"
      },
      "source": [
        "from torch.utils.data import Dataset, DataLoader\n",
        "class Data(Dataset):\n",
        "    def __init__(self,N_images=100,offset=0,p=0.9, train=False):\n",
        "        \"\"\"\n",
        "        p:portability that pixel is wight  \n",
        "        N_images:number of images \n",
        "        offset:set a random vertical and horizontal offset images by a sample should be less than 3 \n",
        "        \"\"\"\n",
        "        if train==True:\n",
        "            np.random.seed(1)  \n",
        "        \n",
        "        #make images multiple of 3 \n",
        "        N_images=2*(N_images//2)\n",
        "        images=np.zeros((N_images,1,11,11))\n",
        "        start1=3\n",
        "        start2=1\n",
        "        self.y=torch.zeros(N_images).type(torch.long)\n",
        "\n",
        "        for n in range(N_images):\n",
        "            if offset>0:\n",
        "        \n",
        "                low=int(np.random.randint(low=start1, high=start1+offset, size=1))\n",
        "                high=int(np.random.randint(low=start2, high=start2+offset, size=1))\n",
        "            else:\n",
        "                low=4\n",
        "                high=1\n",
        "        \n",
        "            if n<=N_images//2:\n",
        "                self.y[n]=0\n",
        "                images[n,0,high:high+9,low:low+3]= np.random.binomial(1, p, (9,3))\n",
        "            elif  n>N_images//2:\n",
        "                self.y[n]=1\n",
        "                images[n,0,low:low+3,high:high+9] = np.random.binomial(1, p, (3,9))\n",
        "           \n",
        "        \n",
        "        \n",
        "        self.x=torch.from_numpy(images).type(torch.FloatTensor)\n",
        "        self.len=self.x.shape[0]\n",
        "        del(images)\n",
        "        np.random.seed(0)\n",
        "    def __getitem__(self,index):      \n",
        "        return self.x[index],self.y[index]\n",
        "    def __len__(self):\n",
        "        return self.len"
      ],
      "execution_count": null,
      "outputs": []
    },
    {
      "cell_type": "code",
      "metadata": {
        "id": "WCqsvKhj8T9c"
      },
      "source": [
        "def plot_activations(A,number_rows= 1,name=\"\"):\n",
        "    A=A[0,:,:,:].detach().numpy()\n",
        "    n_activations=A.shape[0]\n",
        "    \n",
        "    \n",
        "    print(n_activations)\n",
        "    A_min=A.min().item()\n",
        "    A_max=A.max().item()\n",
        "\n",
        "    if n_activations==1:\n",
        "\n",
        "        # Plot the image.\n",
        "        plt.imshow(A[0,:], vmin=A_min, vmax=A_max, cmap='seismic')\n",
        "\n",
        "    else:\n",
        "        fig, axes = plt.subplots(number_rows, n_activations//number_rows)\n",
        "        fig.subplots_adjust(hspace = 0.4)\n",
        "        for i,ax in enumerate(axes.flat):\n",
        "            if i< n_activations:\n",
        "                # Set the label for the sub-plot.\n",
        "                ax.set_xlabel( \"activation:{0}\".format(i+1))\n",
        "\n",
        "                # Plot the image.\n",
        "                ax.imshow(A[i,:], vmin=A_min, vmax=A_max, cmap='seismic')\n",
        "                ax.set_xticks([])\n",
        "                ax.set_yticks([])\n",
        "    plt.show()"
      ],
      "execution_count": null,
      "outputs": []
    },
    {
      "cell_type": "code",
      "metadata": {
        "id": "Vnp0DqtB8Wy1"
      },
      "source": [
        "def conv_output_shape(h_w, kernel_size=1, stride=1, pad=0, dilation=1):\n",
        "    #by Duane Nielsen\n",
        "    from math import floor\n",
        "    if type(kernel_size) is not tuple:\n",
        "        kernel_size = (kernel_size, kernel_size)\n",
        "    h = floor( ((h_w[0] + (2 * pad) - ( dilation * (kernel_size[0] - 1) ) - 1 )/ stride) + 1)\n",
        "    w = floor( ((h_w[1] + (2 * pad) - ( dilation * (kernel_size[1] - 1) ) - 1 )/ stride) + 1)\n",
        "    return h, w"
      ],
      "execution_count": null,
      "outputs": []
    },
    {
      "cell_type": "markdown",
      "metadata": {
        "id": "YDeh0E748YM-"
      },
      "source": [
        "# Prepare Data"
      ]
    },
    {
      "cell_type": "code",
      "metadata": {
        "id": "g9iBk-XZ854n"
      },
      "source": [
        "N_images=10000\n",
        "train_dataset=Data(N_images=N_images)"
      ],
      "execution_count": null,
      "outputs": []
    },
    {
      "cell_type": "code",
      "metadata": {
        "colab": {
          "base_uri": "https://localhost:8080/"
        },
        "id": "t1xyvr9188hg",
        "outputId": "99bb695c-632e-46a6-8b13-d4e3a010adfd"
      },
      "source": [
        "validation_dataset=Data(N_images=1000,train=False)\n",
        "validation_dataset"
      ],
      "execution_count": null,
      "outputs": [
        {
          "output_type": "execute_result",
          "data": {
            "text/plain": [
              "<__main__.Data at 0x7f3bcedb7550>"
            ]
          },
          "metadata": {
            "tags": []
          },
          "execution_count": 10
        }
      ]
    },
    {
      "cell_type": "markdown",
      "metadata": {
        "id": "0hqkD5Th9Q9Z"
      },
      "source": [
        "# Data Visualization"
      ]
    },
    {
      "cell_type": "code",
      "metadata": {
        "colab": {
          "base_uri": "https://localhost:8080/",
          "height": 281
        },
        "id": "Xuza6nVd9J8U",
        "outputId": "29018f27-4b6e-4fc1-8479-8a35c6813679"
      },
      "source": [
        "show_data(train_dataset,0)"
      ],
      "execution_count": null,
      "outputs": [
        {
          "output_type": "display_data",
          "data": {
            "image/png": "[encoded data removed]",
            "text/plain": [
              "<Figure size 432x288 with 1 Axes>"
            ]
          },
          "metadata": {
            "tags": [],
            "needs_background": "light"
          }
        }
      ]
    },
    {
      "cell_type": "code",
      "metadata": {
        "colab": {
          "base_uri": "https://localhost:8080/",
          "height": 281
        },
        "id": "f9Nkf_Cl9NrF",
        "outputId": "7ce7f014-42c8-4a4c-dd15-b81d6eead569"
      },
      "source": [
        "show_data(train_dataset,N_images//2+2)"
      ],
      "execution_count": null,
      "outputs": [
        {
          "output_type": "display_data",
          "data": {
            "image/png": "[encoded data removed]",
            "text/plain": [
              "<Figure size 432x288 with 1 Axes>"
            ]
          },
          "metadata": {
            "tags": [],
            "needs_background": "light"
          }
        }
      ]
    },
    {
      "cell_type": "markdown",
      "metadata": {
        "id": "PE3l5Ufr9TXX"
      },
      "source": [
        "# Build a Convolutional Neral Network Class"
      ]
    },
    {
      "cell_type": "code",
      "metadata": {
        "colab": {
          "base_uri": "https://localhost:8080/"
        },
        "id": "HNzCdc0P9WAQ",
        "outputId": "59d76855-71f1-4d72-a5c0-4d5b19cc3e11"
      },
      "source": [
        "out=conv_output_shape((11,11), kernel_size=2, stride=1, pad=0, dilation=1)\n",
        "print(out)\n",
        "out1=conv_output_shape(out, kernel_size=2, stride=1, pad=0, dilation=1)\n",
        "print(out1)\n",
        "out2=conv_output_shape(out1, kernel_size=2, stride=1, pad=0, dilation=1)\n",
        "print(out2)\n",
        "\n",
        "out3=conv_output_shape(out2, kernel_size=2, stride=1, pad=0, dilation=1)\n",
        "print(out3)"
      ],
      "execution_count": null,
      "outputs": [
        {
          "output_type": "stream",
          "text": [
            "(10, 10)\n",
            "(9, 9)\n",
            "(8, 8)\n",
            "(7, 7)\n"
          ],
          "name": "stdout"
        }
      ]
    },
    {
      "cell_type": "code",
      "metadata": {
        "id": "dIAJkWMV9oQv"
      },
      "source": [
        "class CNN(nn.Module):\n",
        "    def __init__(self,out_1=2,out_2=1):\n",
        "        \n",
        "        super(CNN,self).__init__()\n",
        "        #first Convolutional layers \n",
        "        self.cnn1=nn.Conv2d(in_channels=1,out_channels=out_1,kernel_size=2,padding=0)\n",
        "        self.maxpool1=nn.MaxPool2d(kernel_size=2 ,stride=1)\n",
        "\n",
        "        #second Convolutional layers\n",
        "        self.cnn2=nn.Conv2d(in_channels=out_1,out_channels=out_2,kernel_size=2,stride=1,padding=0)\n",
        "        self.maxpool2=nn.MaxPool2d(kernel_size=2 ,stride=1)\n",
        "        #max pooling \n",
        "\n",
        "        #fully connected layer \n",
        "        self.fc1=nn.Linear(out_2*7*7,2)\n",
        "        \n",
        "    def forward(self,x):\n",
        "        #first Convolutional layers\n",
        "        x=self.cnn1(x)\n",
        "        #activation function \n",
        "        x=torch.relu(x)\n",
        "        #max pooling \n",
        "        x=self.maxpool1(x)\n",
        "        #first Convolutional layers\n",
        "        x=self.cnn2(x)\n",
        "        #activation function\n",
        "        x=torch.relu(x)\n",
        "        #max pooling\n",
        "        x=self.maxpool2(x)\n",
        "        #flatten output \n",
        "        x=x.view(x.size(0),-1)\n",
        "        #fully connected layer\n",
        "        x=self.fc1(x)\n",
        "        return x\n",
        "    \n",
        "    def activations(self,x):\n",
        "        #outputs activation this is not necessary just for fun \n",
        "        z1=self.cnn1(x)\n",
        "        a1=torch.relu(z1)\n",
        "        out=self.maxpool1(a1)\n",
        "        \n",
        "        z2=self.cnn2(out)\n",
        "        a2=torch.relu(z2)\n",
        "        out=self.maxpool2(a2)\n",
        "        out=out.view(out.size(0),-1)\n",
        "        return z1,a1,z2,a2,out        "
      ],
      "execution_count": null,
      "outputs": []
    },
    {
      "cell_type": "markdown",
      "metadata": {
        "id": "KQEiffIf9q-t"
      },
      "source": [
        "# Define the Convolutional Neral Network Classifier , Criterion function, Optimizer and Train the Model"
      ]
    },
    {
      "cell_type": "code",
      "metadata": {
        "colab": {
          "base_uri": "https://localhost:8080/"
        },
        "id": "kCxZh0799s8E",
        "outputId": "d8de3ffa-1732-47e7-dcb9-5e1928cf3853"
      },
      "source": [
        "model=CNN(2,1)\n",
        "model"
      ],
      "execution_count": null,
      "outputs": [
        {
          "output_type": "execute_result",
          "data": {
            "text/plain": [
              "CNN(\n",
              "  (cnn1): Conv2d(1, 2, kernel_size=(2, 2), stride=(1, 1))\n",
              "  (maxpool1): MaxPool2d(kernel_size=2, stride=1, padding=0, dilation=1, ceil_mode=False)\n",
              "  (cnn2): Conv2d(2, 1, kernel_size=(2, 2), stride=(1, 1))\n",
              "  (maxpool2): MaxPool2d(kernel_size=2, stride=1, padding=0, dilation=1, ceil_mode=False)\n",
              "  (fc1): Linear(in_features=49, out_features=2, bias=True)\n",
              ")"
            ]
          },
          "metadata": {
            "tags": []
          },
          "execution_count": 20
        }
      ]
    },
    {
      "cell_type": "code",
      "metadata": {
        "colab": {
          "base_uri": "https://localhost:8080/",
          "height": 252
        },
        "id": "tJxgPam49w0o",
        "outputId": "4cee1c3a-5c63-466a-9e47-28983692a76c"
      },
      "source": [
        "plot_channels(model.state_dict()['cnn1.weight'])"
      ],
      "execution_count": null,
      "outputs": [
        {
          "output_type": "display_data",
          "data": {
            "image/png": "[encoded data removed]",
            "text/plain": [
              "<Figure size 432x288 with 2 Axes>"
            ]
          },
          "metadata": {
            "tags": [],
            "needs_background": "light"
          }
        }
      ]
    },
    {
      "cell_type": "code",
      "metadata": {
        "colab": {
          "base_uri": "https://localhost:8080/",
          "height": 187
        },
        "id": "2MxOcse790Yv",
        "outputId": "8f310afe-50cd-4ff7-ee05-6fc3ccb518f6"
      },
      "source": [
        "plot_channels(model.state_dict()['cnn2.weight'])"
      ],
      "execution_count": null,
      "outputs": [
        {
          "output_type": "display_data",
          "data": {
            "image/png": "[encoded data removed]",
            "text/plain": [
              "<Figure size 432x288 with 2 Axes>"
            ]
          },
          "metadata": {
            "tags": [],
            "needs_background": "light"
          }
        }
      ]
    },
    {
      "cell_type": "code",
      "metadata": {
        "id": "XbvZUM2r92Qd"
      },
      "source": [
        "criterion=nn.CrossEntropyLoss()"
      ],
      "execution_count": null,
      "outputs": []
    },
    {
      "cell_type": "code",
      "metadata": {
        "id": "tCmb5AFA94zA"
      },
      "source": [
        "learning_rate=0.001\n",
        "\n",
        "optimizer = torch.optim.Adam(model.parameters(), lr=learning_rate)"
      ],
      "execution_count": null,
      "outputs": []
    },
    {
      "cell_type": "code",
      "metadata": {
        "id": "a20fBJbh962c"
      },
      "source": [
        "train_loader=torch.utils.data.DataLoader(dataset=train_dataset,batch_size=10)\n",
        "validation_loader=torch.utils.data.DataLoader(dataset=validation_dataset,batch_size=20)"
      ],
      "execution_count": null,
      "outputs": []
    },
    {
      "cell_type": "code",
      "metadata": {
        "id": "TUudUbwI99Oq"
      },
      "source": [
        "n_epochs=10\n",
        "cost_list=[]\n",
        "accuracy_list=[]\n",
        "N_test=len(validation_dataset)\n",
        "cost=0\n",
        "#n_epochs\n",
        "for epoch in range(n_epochs):\n",
        "    cost=0    \n",
        "    for x, y in train_loader:\n",
        "      \n",
        "\n",
        "        #clear gradient \n",
        "        optimizer.zero_grad()\n",
        "        #make a prediction \n",
        "        z=model(x)\n",
        "        # calculate loss \n",
        "        loss=criterion(z,y)\n",
        "        # calculate gradients of parameters \n",
        "        loss.backward()\n",
        "        # update parameters \n",
        "        optimizer.step()\n",
        "        cost+=loss.item()\n",
        "    cost_list.append(cost)\n",
        "        \n",
        "        \n",
        "    correct=0\n",
        "    #perform a prediction on the validation  data  \n",
        "    for x_test, y_test in validation_loader:\n",
        "\n",
        "        z=model(x_test)\n",
        "        _,yhat=torch.max(z.data,1)\n",
        "\n",
        "        correct+=(yhat==y_test).sum().item()\n",
        "        \n",
        "\n",
        "    accuracy=correct/N_test\n",
        "\n",
        "    accuracy_list.append(accuracy)"
      ],
      "execution_count": null,
      "outputs": []
    },
    {
      "cell_type": "markdown",
      "metadata": {
        "id": "2c3FH8ZD-AFH"
      },
      "source": [
        "# Analyse Results"
      ]
    },
    {
      "cell_type": "code",
      "metadata": {
        "colab": {
          "base_uri": "https://localhost:8080/",
          "height": 297
        },
        "id": "t_5062TN-BjO",
        "outputId": "86d5ca65-12a5-434d-e8a6-896683a18855"
      },
      "source": [
        "fig, ax1 = plt.subplots()\n",
        "color = 'tab:red'\n",
        "ax1.plot(cost_list,color=color)\n",
        "ax1.set_xlabel('epoch',color=color)\n",
        "ax1.set_ylabel('total loss',color=color)\n",
        "ax1.tick_params(axis='y', color=color)\n",
        "    \n",
        "ax2 = ax1.twinx()  \n",
        "color = 'tab:blue'\n",
        "ax2.set_ylabel('accuracy', color=color)  \n",
        "ax2.plot( accuracy_list, color=color)\n",
        "ax2.tick_params(axis='y', labelcolor=color)\n",
        "fig.tight_layout()"
      ],
      "execution_count": null,
      "outputs": [
        {
          "output_type": "display_data",
          "data": {
            "image/png": "[encoded data removed]",
            "text/plain": [
              "<Figure size 432x288 with 2 Axes>"
            ]
          },
          "metadata": {
            "tags": [],
            "needs_background": "light"
          }
        }
      ]
    },
    {
      "cell_type": "code",
      "metadata": {
        "colab": {
          "base_uri": "https://localhost:8080/"
        },
        "id": "4OaIuMxl-C_M",
        "outputId": "82dc9776-9615-4948-bb6a-a183ed6a61e9"
      },
      "source": [
        "model.state_dict()['cnn1.weight']"
      ],
      "execution_count": null,
      "outputs": [
        {
          "output_type": "execute_result",
          "data": {
            "text/plain": [
              "tensor([[[[ 0.3557,  0.3162],\n",
              "          [-0.3037,  0.2043]]],\n",
              "\n",
              "\n",
              "        [[[ 0.4384,  0.6835],\n",
              "          [ 0.0431,  0.1654]]]])"
            ]
          },
          "metadata": {
            "tags": []
          },
          "execution_count": 28
        }
      ]
    },
    {
      "cell_type": "code",
      "metadata": {
        "colab": {
          "base_uri": "https://localhost:8080/",
          "height": 252
        },
        "id": "QB1p0YbZ-Emq",
        "outputId": "c534598d-5f97-4420-f460-14a1a2c631d1"
      },
      "source": [
        "plot_channels(model.state_dict()['cnn1.weight'])"
      ],
      "execution_count": null,
      "outputs": [
        {
          "output_type": "display_data",
          "data": {
            "image/png": "[encoded data removed]",
            "text/plain": [
              "<Figure size 432x288 with 2 Axes>"
            ]
          },
          "metadata": {
            "tags": [],
            "needs_background": "light"
          }
        }
      ]
    },
    {
      "cell_type": "code",
      "metadata": {
        "colab": {
          "base_uri": "https://localhost:8080/"
        },
        "id": "wji0cWXc-GSH",
        "outputId": "b1b31dbe-68b9-4a49-a5e0-39a73cf45903"
      },
      "source": [
        "model.state_dict()['cnn1.weight']"
      ],
      "execution_count": null,
      "outputs": [
        {
          "output_type": "execute_result",
          "data": {
            "text/plain": [
              "tensor([[[[ 0.3557,  0.3162],\n",
              "          [-0.3037,  0.2043]]],\n",
              "\n",
              "\n",
              "        [[[ 0.4384,  0.6835],\n",
              "          [ 0.0431,  0.1654]]]])"
            ]
          },
          "metadata": {
            "tags": []
          },
          "execution_count": 30
        }
      ]
    },
    {
      "cell_type": "code",
      "metadata": {
        "colab": {
          "base_uri": "https://localhost:8080/",
          "height": 187
        },
        "id": "lv_ZBdhU-Hwg",
        "outputId": "8a992454-1f84-4e54-8e4f-d7cc3fbe6b9e"
      },
      "source": [
        "plot_channels(model.state_dict()['cnn2.weight'])"
      ],
      "execution_count": null,
      "outputs": [
        {
          "output_type": "display_data",
          "data": {
            "image/png": "[encoded data removed]",
            "text/plain": [
              "<Figure size 432x288 with 2 Axes>"
            ]
          },
          "metadata": {
            "tags": [],
            "needs_background": "light"
          }
        }
      ]
    },
    {
      "cell_type": "code",
      "metadata": {
        "colab": {
          "base_uri": "https://localhost:8080/",
          "height": 281
        },
        "id": "i7YY4Wqr-Jgc",
        "outputId": "04f751d6-e3e1-4ce3-e40a-87922f0417d3"
      },
      "source": [
        "show_data(train_dataset,N_images//2+2)"
      ],
      "execution_count": null,
      "outputs": [
        {
          "output_type": "display_data",
          "data": {
            "image/png": "[encoded data removed]",
            "text/plain": [
              "<Figure size 432x288 with 1 Axes>"
            ]
          },
          "metadata": {
            "tags": [],
            "needs_background": "light"
          }
        }
      ]
    },
    {
      "cell_type": "code",
      "metadata": {
        "id": "kdocKmsB-K4r"
      },
      "source": [
        "out=model.activations(train_dataset[N_images//2+2][0].view(1,1,11,11))\n",
        "out=model.activations(train_dataset[0][0].view(1,1,11,11))"
      ],
      "execution_count": null,
      "outputs": []
    },
    {
      "cell_type": "code",
      "metadata": {
        "colab": {
          "base_uri": "https://localhost:8080/",
          "height": 214
        },
        "id": "c6uJ-1YE-MpM",
        "outputId": "04648ace-f9a1-4b8f-bca7-01bd5faac361"
      },
      "source": [
        "plot_activations(out[0],number_rows=1,name=\" feature map\")\n",
        "plt.show()"
      ],
      "execution_count": null,
      "outputs": [
        {
          "output_type": "stream",
          "text": [
            "2\n"
          ],
          "name": "stdout"
        },
        {
          "output_type": "display_data",
          "data": {
            "image/png": "[encoded data removed]",
            "text/plain": [
              "<Figure size 432x288 with 2 Axes>"
            ]
          },
          "metadata": {
            "tags": []
          }
        }
      ]
    },
    {
      "cell_type": "code",
      "metadata": {
        "colab": {
          "base_uri": "https://localhost:8080/",
          "height": 282
        },
        "id": "rjkaveex-Oep",
        "outputId": "f4711417-e743-41e5-9cd1-617f1689f282"
      },
      "source": [
        "plot_activations(out[2],number_rows=1,name=\"2nd feature map\")\n",
        "plt.show()"
      ],
      "execution_count": null,
      "outputs": [
        {
          "output_type": "stream",
          "text": [
            "1\n"
          ],
          "name": "stdout"
        },
        {
          "output_type": "display_data",
          "data": {
            "image/png": "[encoded data removed]",
            "text/plain": [
              "<Figure size 432x288 with 1 Axes>"
            ]
          },
          "metadata": {
            "tags": [],
            "needs_background": "light"
          }
        }
      ]
    },
    {
      "cell_type": "code",
      "metadata": {
        "colab": {
          "base_uri": "https://localhost:8080/",
          "height": 282
        },
        "id": "cAdFpUzH-QKy",
        "outputId": "b532b8ce-5c8d-46cd-bbd3-aef1720e5285"
      },
      "source": [
        "plot_activations(out[3],number_rows=1,name=\"first feature map\")\n",
        "plt.show()"
      ],
      "execution_count": null,
      "outputs": [
        {
          "output_type": "stream",
          "text": [
            "1\n"
          ],
          "name": "stdout"
        },
        {
          "output_type": "display_data",
          "data": {
            "image/png": "[encoded data removed]",
            "text/plain": [
              "<Figure size 432x288 with 1 Axes>"
            ]
          },
          "metadata": {
            "tags": [],
            "needs_background": "light"
          }
        }
      ]
    },
    {
      "cell_type": "code",
      "metadata": {
        "id": "0trj_3Oj-R39"
      },
      "source": [
        "out1=out[4][0].detach().numpy()"
      ],
      "execution_count": null,
      "outputs": []
    },
    {
      "cell_type": "code",
      "metadata": {
        "colab": {
          "base_uri": "https://localhost:8080/"
        },
        "id": "vpctdxta-UY4",
        "outputId": "8b38d977-3e08-4a3c-b58c-cbb6754ad7ad"
      },
      "source": [
        "out0=model.activations(train_dataset[100][0].view(1,1,11,11))[4][0].detach().numpy()\n",
        "out0"
      ],
      "execution_count": null,
      "outputs": [
        {
          "output_type": "execute_result",
          "data": {
            "text/plain": [
              "array([1.0444266 , 2.3420048 , 2.618414  , 2.618414  , 2.618414  ,\n",
              "       1.6276499 , 0.33007157, 1.0444266 , 2.3530316 , 2.692915  ,\n",
              "       2.776783  , 2.776783  , 1.7523366 , 0.33007157, 1.0444266 ,\n",
              "       2.3530316 , 2.692915  , 2.7973986 , 2.7973986 , 1.805977  ,\n",
              "       0.33007157, 0.9802411 , 2.06301   , 2.6090877 , 2.7973986 ,\n",
              "       2.7973986 , 1.805977  , 0.33007157, 1.0444266 , 2.150486  ,\n",
              "       2.358337  , 2.3649588 , 2.3649588 , 1.5485295 , 0.33007157,\n",
              "       1.0444266 , 2.3420048 , 2.618414  , 2.618414  , 2.618414  ,\n",
              "       1.6276499 , 0.33007157, 1.0444266 , 2.3530316 , 2.670259  ,\n",
              "       2.670259  , 2.670259  , 1.702151  , 0.45475823], dtype=float32)"
            ]
          },
          "metadata": {
            "tags": []
          },
          "execution_count": 38
        }
      ]
    },
    {
      "cell_type": "code",
      "metadata": {
        "colab": {
          "base_uri": "https://localhost:8080/",
          "height": 312
        },
        "id": "pItnZbWd-V7n",
        "outputId": "18de4e90-4e2e-4107-bb7e-81619808642a"
      },
      "source": [
        "plt.subplot(2, 1, 1)\n",
        "plt.plot( out1, 'b')\n",
        "plt.title('Flatted Activation Values  ')\n",
        "plt.ylabel('Activation')\n",
        "plt.xlabel('index')\n",
        "plt.subplot(2, 1, 2)\n",
        "plt.plot(out0, 'r')\n",
        "plt.xlabel('index')\n",
        "plt.ylabel('Activation')"
      ],
      "execution_count": null,
      "outputs": [
        {
          "output_type": "execute_result",
          "data": {
            "text/plain": [
              "Text(0, 0.5, 'Activation')"
            ]
          },
          "metadata": {
            "tags": []
          },
          "execution_count": 39
        },
        {
          "output_type": "display_data",
          "data": {
            "image/png": "[encoded data removed]",
            "text/plain": [
              "<Figure size 432x288 with 2 Axes>"
            ]
          },
          "metadata": {
            "tags": [],
            "needs_background": "light"
          }
        }
      ]
    }
  ]
}