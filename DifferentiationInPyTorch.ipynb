{
  "nbformat": 4,
  "nbformat_minor": 0,
  "metadata": {
    "colab": {
      "name": "DifferentiationInPyTorch.ipynb",
      "provenance": [],
      "collapsed_sections": [],
      "authorship_tag": "ABX9TyPfTOnWXU5wxv8wgd39/9jb",
      "include_colab_link": true
    },
    "kernelspec": {
      "name": "python3",
      "display_name": "Python 3"
    }
  },
  "cells": [
    {
      "cell_type": "markdown",
      "metadata": {
        "id": "view-in-github",
        "colab_type": "text"
      },
      "source": [
        "<a href=\"https://colab.research.google.com/github/NicoGangi5/Deep_Neural_Networks_with_PyTorch/blob/main/DifferentiationInPyTorch.ipynb\" target=\"_parent\"><img src=\"https://colab.research.google.com/assets/colab-badge.svg\" alt=\"Open In Colab\"/></a>"
      ]
    },
    {
      "cell_type": "markdown",
      "metadata": {
        "id": "IytENIhzlKRs"
      },
      "source": [
        "# Derivatives"
      ]
    },
    {
      "cell_type": "code",
      "metadata": {
        "id": "m16LQr00cH9-"
      },
      "source": [
        "# These are the libraries will be useing for this lab.\n",
        "\n",
        "import torch \n",
        "import matplotlib.pylab as plt"
      ],
      "execution_count": null,
      "outputs": []
    },
    {
      "cell_type": "code",
      "metadata": {
        "id": "I64LNsMVcif1",
        "colab": {
          "base_uri": "https://localhost:8080/"
        },
        "outputId": "2a62c693-7490-4e47-b809-e99fde30fd74"
      },
      "source": [
        "# Create a tensor x\n",
        "\n",
        "x = torch.tensor(2.0, requires_grad = True)\n",
        "print(\"The tensor x: \", x)"
      ],
      "execution_count": null,
      "outputs": [
        {
          "output_type": "stream",
          "text": [
            "The tensor x:  tensor(2., requires_grad=True)\n"
          ],
          "name": "stdout"
        }
      ]
    },
    {
      "cell_type": "code",
      "metadata": {
        "id": "ZSsFE3V6ifQy",
        "colab": {
          "base_uri": "https://localhost:8080/"
        },
        "outputId": "b90e9745-d5d5-414e-86fe-76581ed65a9d"
      },
      "source": [
        "# Create a tensor y according to y = x^2\n",
        "\n",
        "y = x ** 2\n",
        "print(\"The result of y = x^2: \", y)"
      ],
      "execution_count": null,
      "outputs": [
        {
          "output_type": "stream",
          "text": [
            "The result of y = x^2:  tensor(4., grad_fn=<PowBackward0>)\n"
          ],
          "name": "stdout"
        }
      ]
    },
    {
      "cell_type": "code",
      "metadata": {
        "id": "lD8Zz9syik5_",
        "colab": {
          "base_uri": "https://localhost:8080/"
        },
        "outputId": "57733e22-5fef-4167-9162-2a76a65f90cf"
      },
      "source": [
        "# Take the derivative. Try to print out the derivative at the value x = 2\n",
        "\n",
        "y.backward()\n",
        "print(\"The dervative at x = 2: \", x.grad)"
      ],
      "execution_count": null,
      "outputs": [
        {
          "output_type": "stream",
          "text": [
            "The dervative at x = 2:  tensor(4.)\n"
          ],
          "name": "stdout"
        }
      ]
    },
    {
      "cell_type": "code",
      "metadata": {
        "id": "jk3zkF0_jO-w",
        "colab": {
          "base_uri": "https://localhost:8080/"
        },
        "outputId": "d4f85334-79bf-41c2-88a8-2d6470cac5e1"
      },
      "source": [
        "print('data:',x.data)\n",
        "print('grad_fn:',x.grad_fn)\n",
        "print('grad:',x.grad)\n",
        "print(\"is_leaf:\",x.is_leaf)\n",
        "print(\"requires_grad:\",x.requires_grad)"
      ],
      "execution_count": null,
      "outputs": [
        {
          "output_type": "stream",
          "text": [
            "data: tensor(2.)\n",
            "grad_fn: None\n",
            "grad: tensor(4.)\n",
            "is_leaf: True\n",
            "requires_grad: True\n"
          ],
          "name": "stdout"
        }
      ]
    },
    {
      "cell_type": "code",
      "metadata": {
        "id": "d__7Db6KjSSd",
        "colab": {
          "base_uri": "https://localhost:8080/"
        },
        "outputId": "9727c145-a8f6-4e10-f621-8fbe579b43e2"
      },
      "source": [
        "print('data:',y.data)\n",
        "print('grad_fn:',y.grad_fn)\n",
        "print('grad:',y.grad)\n",
        "print(\"is_leaf:\",y.is_leaf)\n",
        "print(\"requires_grad:\",y.requires_grad)"
      ],
      "execution_count": null,
      "outputs": [
        {
          "output_type": "stream",
          "text": [
            "data: tensor(4.)\n",
            "grad_fn: <PowBackward0 object at 0x7f2f92ea2860>\n",
            "grad: None\n",
            "is_leaf: False\n",
            "requires_grad: True\n"
          ],
          "name": "stdout"
        },
        {
          "output_type": "stream",
          "text": [
            "/usr/local/lib/python3.6/dist-packages/ipykernel_launcher.py:3: UserWarning: The .grad attribute of a Tensor that is not a leaf Tensor is being accessed. Its .grad attribute won't be populated during autograd.backward(). If you indeed want the gradient for a non-leaf Tensor, use .retain_grad() on the non-leaf Tensor. If you access the non-leaf Tensor by mistake, make sure you access the leaf Tensor instead. See github.com/pytorch/pytorch/pull/30531 for more informations.\n",
            "  This is separate from the ipykernel package so we can avoid doing imports until\n"
          ],
          "name": "stderr"
        }
      ]
    },
    {
      "cell_type": "code",
      "metadata": {
        "id": "VvnyGWInjbGm",
        "colab": {
          "base_uri": "https://localhost:8080/"
        },
        "outputId": "5865a3f0-04dd-4572-c535-611112185cf3"
      },
      "source": [
        "# Calculate the y = x^2 + 2x + 1, then find the derivative \n",
        "\n",
        "x = torch.tensor(2.0, requires_grad = True)\n",
        "y = x ** 2 + 2 * x + 1\n",
        "print(\"The result of y = x^2 + 2x + 1: \", y)\n",
        "y.backward()\n",
        "print(\"The dervative at x = 2: \", x.grad)"
      ],
      "execution_count": null,
      "outputs": [
        {
          "output_type": "stream",
          "text": [
            "The result of y = x^2 + 2x + 1:  tensor(9., grad_fn=<AddBackward0>)\n",
            "The dervative at x = 2:  tensor(6.)\n"
          ],
          "name": "stdout"
        }
      ]
    },
    {
      "cell_type": "code",
      "metadata": {
        "id": "28hnh3gSjmDR",
        "colab": {
          "base_uri": "https://localhost:8080/"
        },
        "outputId": "70017057-5559-4df6-8ec4-110ba2dea4af"
      },
      "source": [
        "# Practice: Calculate the derivative of y = 2x^3 + x at x = 1\n",
        "\n",
        "x = torch.tensor(1.0, requires_grad=True)\n",
        "y = 2 * x ** 3 + x\n",
        "print(\"The result of y = 2x^3 + x: \", y)\n",
        "y.backward()\n",
        "print(\"The derivative at x = 1: \", x.grad)"
      ],
      "execution_count": null,
      "outputs": [
        {
          "output_type": "stream",
          "text": [
            "The result of y = 2x^3 + x:  tensor(3., grad_fn=<AddBackward0>)\n",
            "The derivative at x = 1:  tensor(7.)\n"
          ],
          "name": "stdout"
        }
      ]
    },
    {
      "cell_type": "code",
      "metadata": {
        "id": "DmYHHB-7kDth"
      },
      "source": [
        "class SQ(torch.autograd.Function):\n",
        "\n",
        "\n",
        "    @staticmethod\n",
        "    def forward(ctx,i):\n",
        "        \"\"\"\n",
        "        In the forward pass we receive a Tensor containing the input and return\n",
        "        a Tensor containing the output. ctx is a context object that can be used\n",
        "        to stash information for backward computation. You can cache arbitrary\n",
        "        objects for use in the backward pass using the ctx.save_for_backward method.\n",
        "        \"\"\"\n",
        "        result=i**2\n",
        "        ctx.save_for_backward(i)\n",
        "        return result\n",
        "\n",
        "    @staticmethod\n",
        "    def backward(ctx, grad_output):\n",
        "        \"\"\"\n",
        "        In the backward pass we receive a Tensor containing the gradient of the loss\n",
        "        with respect to the output, and we need to compute the gradient of the loss\n",
        "        with respect to the input.\n",
        "        \"\"\"\n",
        "        i, = ctx.saved_tensors\n",
        "        grad_output = 2*i\n",
        "        return grad_output"
      ],
      "execution_count": null,
      "outputs": []
    },
    {
      "cell_type": "code",
      "metadata": {
        "id": "Cf63LTSBk_FI",
        "colab": {
          "base_uri": "https://localhost:8080/"
        },
        "outputId": "80a280f6-6b58-4777-c980-7c4e9534f419"
      },
      "source": [
        "x=torch.tensor(2.0,requires_grad=True )\n",
        "sq=SQ.apply\n",
        "\n",
        "y=sq(x)\n",
        "y\n",
        "print(y.grad_fn)\n",
        "y.backward()\n",
        "x.grad"
      ],
      "execution_count": null,
      "outputs": [
        {
          "output_type": "stream",
          "text": [
            "<torch.autograd.function.SQBackward object at 0x7f2fe0ef5958>\n"
          ],
          "name": "stdout"
        },
        {
          "output_type": "execute_result",
          "data": {
            "text/plain": [
              "tensor(4.)"
            ]
          },
          "metadata": {
            "tags": []
          },
          "execution_count": 11
        }
      ]
    },
    {
      "cell_type": "markdown",
      "metadata": {
        "id": "1AlHS8nZlEtN"
      },
      "source": [
        "# Partial Derivatives\n"
      ]
    },
    {
      "cell_type": "code",
      "metadata": {
        "id": "pmlI7Gi8lD5v",
        "colab": {
          "base_uri": "https://localhost:8080/"
        },
        "outputId": "08081d84-d948-4232-80e5-5f45f45ec378"
      },
      "source": [
        "# Calculate f(u, v) = v * u + u^2 at u = 1, v = 2\n",
        "\n",
        "u = torch.tensor(1.0,requires_grad=True)\n",
        "v = torch.tensor(2.0,requires_grad=True)\n",
        "f = u * v + u ** 2\n",
        "print(\"The result of v * u + u^2: \", f)"
      ],
      "execution_count": null,
      "outputs": [
        {
          "output_type": "stream",
          "text": [
            "The result of v * u + u^2:  tensor(3., grad_fn=<AddBackward0>)\n"
          ],
          "name": "stdout"
        }
      ]
    },
    {
      "cell_type": "code",
      "metadata": {
        "id": "8aMb0dzNleOZ",
        "colab": {
          "base_uri": "https://localhost:8080/"
        },
        "outputId": "66adbbb2-5c15-4ff2-eb38-5f79b017b3ed"
      },
      "source": [
        "# Calculate the derivative with respect to u\n",
        "\n",
        "f.backward()\n",
        "print(\"The partial derivative with respect to u: \", u.grad)"
      ],
      "execution_count": null,
      "outputs": [
        {
          "output_type": "stream",
          "text": [
            "The partial derivative with respect to u:  tensor(4.)\n"
          ],
          "name": "stdout"
        }
      ]
    },
    {
      "cell_type": "code",
      "metadata": {
        "id": "oKRCd7A_lfZW",
        "colab": {
          "base_uri": "https://localhost:8080/"
        },
        "outputId": "8a46e760-86d2-4855-b033-36bf4c8bfed4"
      },
      "source": [
        "# Calculate the derivative with respect to v\n",
        "\n",
        "print(\"The partial derivative with respect to u: \", v.grad)"
      ],
      "execution_count": null,
      "outputs": [
        {
          "output_type": "stream",
          "text": [
            "The partial derivative with respect to u:  tensor(1.)\n"
          ],
          "name": "stdout"
        }
      ]
    },
    {
      "cell_type": "code",
      "metadata": {
        "id": "PmTU4n14l6aG",
        "colab": {
          "base_uri": "https://localhost:8080/",
          "height": 279
        },
        "outputId": "6a3c8cac-c389-4f6a-df9c-b176ee2d9894"
      },
      "source": [
        "# Take the derivative of Relu with respect to multiple value. Plot out the function and its derivative\n",
        "\n",
        "x = torch.linspace(-10, 10, 1000, requires_grad = True)\n",
        "Y = torch.relu(x)\n",
        "y = Y.sum()\n",
        "y.backward()\n",
        "plt.plot(x.detach().numpy(), Y.detach().numpy(), label = 'function')\n",
        "plt.plot(x.detach().numpy(), x.grad.detach().numpy(), label = 'derivative')\n",
        "plt.xlabel('x')\n",
        "plt.legend()\n",
        "plt.show()"
      ],
      "execution_count": null,
      "outputs": [
        {
          "output_type": "display_data",
          "data": {
            "image/png": "[encoded data removed]",
            "text/plain": [
              "<Figure size 432x288 with 1 Axes>"
            ]
          },
          "metadata": {
            "tags": [],
            "needs_background": "light"
          }
        }
      ]
    },
    {
      "cell_type": "code",
      "metadata": {
        "id": "PwqhhU4CmLM-",
        "colab": {
          "base_uri": "https://localhost:8080/"
        },
        "outputId": "3cff5799-75bf-4198-fb34-c161de6ef044"
      },
      "source": [
        "y.grad_fn"
      ],
      "execution_count": null,
      "outputs": [
        {
          "output_type": "execute_result",
          "data": {
            "text/plain": [
              "<SumBackward0 at 0x7f2f925b1278>"
            ]
          },
          "metadata": {
            "tags": []
          },
          "execution_count": 18
        }
      ]
    },
    {
      "cell_type": "code",
      "metadata": {
        "id": "HiLMgZqvmObf",
        "colab": {
          "base_uri": "https://localhost:8080/"
        },
        "outputId": "2b22d7d0-b46e-474d-d2a6-6257a3253ccf"
      },
      "source": [
        "# Practice: Calculate the derivative of f = u * v + (u * v) ** 2 at u = 2, v = 1\n",
        "\n",
        "u = torch.tensor(2.0,requires_grad=True)\n",
        "v = torch.tensor(1.0,requires_grad=True)\n",
        "f = u * v + (u * v) ** 2\n",
        "print(\"The result of v * u + u^2: \", f)\n",
        "\n",
        "f.backward()\n",
        "print(\"The partial derivative with respect to u: \", u.grad)\n",
        "\n",
        "f = u * v + (u * v) ** 2\n",
        "f.backward()\n",
        "print(\"The partial derivative with respect to u: \", v.grad)"
      ],
      "execution_count": null,
      "outputs": [
        {
          "output_type": "stream",
          "text": [
            "The result of v * u + u^2:  tensor(6., grad_fn=<AddBackward0>)\n",
            "The partial derivative with respect to u:  tensor(5.)\n",
            "The partial derivative with respect to u:  tensor(20.)\n"
          ],
          "name": "stdout"
        }
      ]
    }
  ]
}