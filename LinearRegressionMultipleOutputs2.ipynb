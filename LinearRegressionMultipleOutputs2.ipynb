{
  "nbformat": 4,
  "nbformat_minor": 0,
  "metadata": {
    "colab": {
      "name": "LinearRegressionMultipleOutputs2.ipynb",
      "provenance": [],
      "collapsed_sections": [],
      "authorship_tag": "ABX9TyPMjuo8igrs+6UtjAEWP1TD",
      "include_colab_link": true
    },
    "kernelspec": {
      "name": "python3",
      "display_name": "Python 3"
    }
  },
  "cells": [
    {
      "cell_type": "markdown",
      "metadata": {
        "id": "view-in-github",
        "colab_type": "text"
      },
      "source": [
        "<a href=\"https://colab.research.google.com/github/NicoGangi5/Deep_Neural_Networks_with_PyTorch/blob/main/LinearRegressionMultipleOutputs2.ipynb\" target=\"_parent\"><img src=\"https://colab.research.google.com/assets/colab-badge.svg\" alt=\"Open In Colab\"/></a>"
      ]
    },
    {
      "cell_type": "code",
      "metadata": {
        "id": "mzWKpGKeRKeV"
      },
      "source": [
        "import torch\n",
        "import numpy as np\n",
        "import matplotlib.pyplot as plt\n",
        "from torch import nn,optim\n",
        "from mpl_toolkits.mplot3d import Axes3D\n",
        "from torch.utils.data import Dataset, DataLoader\n",
        "import torchvision.transforms as transforms"
      ],
      "execution_count": null,
      "outputs": []
    },
    {
      "cell_type": "code",
      "metadata": {
        "colab": {
          "base_uri": "https://localhost:8080/"
        },
        "id": "LqnJLUQaRTiK",
        "outputId": "f13fdda9-15e2-49ec-a66c-3b93c6f008f0"
      },
      "source": [
        "torch.manual_seed(1)"
      ],
      "execution_count": null,
      "outputs": [
        {
          "output_type": "execute_result",
          "data": {
            "text/plain": [
              "<torch._C.Generator at 0x7fe023ad5570>"
            ]
          },
          "metadata": {
            "tags": []
          },
          "execution_count": 2
        }
      ]
    },
    {
      "cell_type": "markdown",
      "metadata": {
        "id": "P3TW-v8KRVGp"
      },
      "source": [
        "# Make Some Data"
      ]
    },
    {
      "cell_type": "code",
      "metadata": {
        "id": "WiPIPdZkRXVc"
      },
      "source": [
        "from torch.utils.data import Dataset, DataLoader\n",
        "class Data(Dataset):\n",
        "    def __init__(self):\n",
        "            self.x=torch.zeros(20,2)\n",
        "            self.x[:,0]=torch.arange(-1,1,0.1)\n",
        "            self.x[:,1]=torch.arange(-1,1,0.1)\n",
        "            self.w=torch.tensor([ [1.0,-1.0],[1.0,3.0]])\n",
        "            self.b=torch.tensor([[1.0,-1.0]])\n",
        "            self.f=torch.mm(self.x,self.w)+self.b\n",
        "            \n",
        "            self.y=self.f+0.001*torch.randn((self.x.shape[0],1))\n",
        "            self.len=self.x.shape[0]\n",
        "\n",
        "    def __getitem__(self,index):\n",
        "\n",
        "        return self.x[index],self.y[index]\n",
        "    \n",
        "    def __len__(self):\n",
        "        return self.len"
      ],
      "execution_count": null,
      "outputs": []
    },
    {
      "cell_type": "code",
      "metadata": {
        "id": "yLUDpM7rRazP"
      },
      "source": [
        "data_set=Data()"
      ],
      "execution_count": null,
      "outputs": []
    },
    {
      "cell_type": "markdown",
      "metadata": {
        "id": "iaf3yAbvRZOW"
      },
      "source": [
        "# Create the Model, Optimizer, and Total Loss Function (cost)"
      ]
    },
    {
      "cell_type": "code",
      "metadata": {
        "id": "74SEPqebRejC"
      },
      "source": [
        "class linear_regression(nn.Module):\n",
        "    def __init__(self,input_size,output_size):\n",
        "        super(linear_regression,self).__init__()\n",
        "        self.linear=nn.Linear(input_size,output_size)\n",
        "    def forward(self,x):\n",
        "        yhat=self.linear(x)\n",
        "        return yhat"
      ],
      "execution_count": null,
      "outputs": []
    },
    {
      "cell_type": "code",
      "metadata": {
        "id": "rEvBsg6vRjZo"
      },
      "source": [
        "model=linear_regression(2,2)"
      ],
      "execution_count": null,
      "outputs": []
    },
    {
      "cell_type": "code",
      "metadata": {
        "id": "4UePmjCiRkEK"
      },
      "source": [
        "optimizer = optim.SGD(model.parameters(), lr = 0.1)"
      ],
      "execution_count": null,
      "outputs": []
    },
    {
      "cell_type": "code",
      "metadata": {
        "id": "XnKOmofSRnW0"
      },
      "source": [
        "criterion = nn.MSELoss()"
      ],
      "execution_count": null,
      "outputs": []
    },
    {
      "cell_type": "code",
      "metadata": {
        "id": "5D0uwKi7RrUH"
      },
      "source": [
        "train_loader=DataLoader(dataset=data_set,batch_size=5)"
      ],
      "execution_count": null,
      "outputs": []
    },
    {
      "cell_type": "markdown",
      "metadata": {
        "id": "VRHIUXUkRr9-"
      },
      "source": [
        "# Train the Model via Mini-Batch Gradient Descent "
      ]
    },
    {
      "cell_type": "code",
      "metadata": {
        "id": "eAVtGKo_RvAJ"
      },
      "source": [
        "LOSS=[]\n",
        " \n",
        "epochs=100\n",
        "   \n",
        "for epoch in range(epochs):\n",
        "    for x,y in train_loader:\n",
        "        #make a prediction \n",
        "        yhat=model(x)\n",
        "        #calculate the loss\n",
        "        loss=criterion(yhat,y)\n",
        "        #store loss/cost \n",
        "        LOSS.append(loss.item())\n",
        "        #clear gradient \n",
        "        optimizer.zero_grad()\n",
        "        #Backward pass: compute gradient of the loss with respect to all the learnable parameters\n",
        "        loss.backward()\n",
        "        #the step function on an Optimizer makes an update to its parameters\n",
        "        optimizer.step()"
      ],
      "execution_count": null,
      "outputs": []
    },
    {
      "cell_type": "code",
      "metadata": {
        "id": "EzJiq88mRyM0",
        "colab": {
          "base_uri": "https://localhost:8080/",
          "height": 290
        },
        "outputId": "b9f70028-021d-4626-ded0-deff9b61a743"
      },
      "source": [
        "plt.plot(LOSS)\n",
        "plt.xlabel(\"iterations \")\n",
        "plt.ylabel(\"Cost/total loss \")\n",
        "plt.show()"
      ],
      "execution_count": null,
      "outputs": [
        {
          "output_type": "display_data",
          "data": {
            "image/png": "[encoded data removed]",
            "text/plain": [
              "<Figure size 432x288 with 1 Axes>"
            ]
          },
          "metadata": {
            "tags": [],
            "needs_background": "light"
          }
        }
      ]
    }
  ]
}