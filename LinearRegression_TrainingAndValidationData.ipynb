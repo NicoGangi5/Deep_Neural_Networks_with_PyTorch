{
  "nbformat": 4,
  "nbformat_minor": 0,
  "metadata": {
    "colab": {
      "name": "LinearRegression:TrainingAndValidationData.ipynb",
      "provenance": [],
      "collapsed_sections": [],
      "authorship_tag": "ABX9TyNTsC7l2YeMK9XysuQSfBw6",
      "include_colab_link": true
    },
    "kernelspec": {
      "name": "python3",
      "display_name": "Python 3"
    }
  },
  "cells": [
    {
      "cell_type": "markdown",
      "metadata": {
        "id": "view-in-github",
        "colab_type": "text"
      },
      "source": [
        "<a href=\"https://colab.research.google.com/github/NicoGangi5/Deep_Neural_Networks_with_PyTorch/blob/main/LinearRegression_TrainingAndValidationData.ipynb\" target=\"_parent\"><img src=\"https://colab.research.google.com/assets/colab-badge.svg\" alt=\"Open In Colab\"/></a>"
      ]
    },
    {
      "cell_type": "code",
      "metadata": {
        "id": "QHiOk-BUsVAG"
      },
      "source": [
        "# Import libraries we need for this lab, and set the random seed\n",
        "\n",
        "from torch import nn\n",
        "import torch\n",
        "import numpy as np\n",
        "import matplotlib.pyplot as plt\n",
        "from torch import nn,optim"
      ],
      "execution_count": null,
      "outputs": []
    },
    {
      "cell_type": "markdown",
      "metadata": {
        "id": "VNVIZAADsfvd"
      },
      "source": [
        "# Make Some Data"
      ]
    },
    {
      "cell_type": "code",
      "metadata": {
        "id": "chV9MtZuseUV"
      },
      "source": [
        "# Create Data class\n",
        "\n",
        "from torch.utils.data import Dataset, DataLoader\n",
        "\n",
        "class Data(Dataset):\n",
        "    \n",
        "    # Constructor\n",
        "    def __init__(self, train = True):\n",
        "            self.x = torch.arange(-3, 3, 0.1).view(-1, 1)\n",
        "            self.f = -3 * self.x + 1\n",
        "            self.y = self.f + 0.1 * torch.randn(self.x.size())\n",
        "            self.len = self.x.shape[0]\n",
        "            \n",
        "            #outliers \n",
        "            if train == True:\n",
        "                self.y[0] = 0\n",
        "                self.y[50:55] = 20\n",
        "            else:\n",
        "                pass\n",
        "      \n",
        "    # Getter\n",
        "    def __getitem__(self, index):    \n",
        "        return self.x[index], self.y[index]\n",
        "    \n",
        "    # Get Length\n",
        "    def __len__(self):\n",
        "        return self.len"
      ],
      "execution_count": null,
      "outputs": []
    },
    {
      "cell_type": "code",
      "metadata": {
        "id": "IDCend0_swHS"
      },
      "source": [
        "# Create training dataset and validation dataset\n",
        "\n",
        "train_data = Data()\n",
        "val_data = Data(train = False)"
      ],
      "execution_count": null,
      "outputs": []
    },
    {
      "cell_type": "code",
      "metadata": {
        "id": "VLjLni92s7YZ",
        "colab": {
          "base_uri": "https://localhost:8080/",
          "height": 279
        },
        "outputId": "8e848649-c915-4616-9b2d-bd0c887fb53e"
      },
      "source": [
        "# Plot out training points\n",
        "\n",
        "plt.plot(train_data.x.numpy(), train_data.y.numpy(), 'xr',label=\"training data \")\n",
        "plt.plot(train_data.x.numpy(), train_data.f.numpy(),label=\"true function  \")\n",
        "plt.xlabel('x')\n",
        "plt.ylabel('y')\n",
        "plt.legend()\n",
        "plt.show()"
      ],
      "execution_count": null,
      "outputs": [
        {
          "output_type": "display_data",
          "data": {
            "image/png": "[encoded data removed]",
            "text/plain": [
              "<Figure size 432x288 with 1 Axes>"
            ]
          },
          "metadata": {
            "tags": [],
            "needs_background": "light"
          }
        }
      ]
    },
    {
      "cell_type": "markdown",
      "metadata": {
        "id": "9FWCGqnvtK2P"
      },
      "source": [
        "# Create a Linear Regression Object, Data Loader, and Criterion Function"
      ]
    },
    {
      "cell_type": "code",
      "metadata": {
        "id": "150dG4WKtAQx"
      },
      "source": [
        "# Create Linear Regression Class\n",
        "\n",
        "from torch import nn\n",
        "\n",
        "class linear_regression(nn.Module):\n",
        "    \n",
        "    # Constructor\n",
        "    def __init__(self, input_size, output_size):\n",
        "        super(linear_regression, self).__init__()\n",
        "        self.linear = nn.Linear(input_size, output_size)\n",
        "    \n",
        "    # Prediction function\n",
        "    def forward(self, x):\n",
        "        yhat = self.linear(x)\n",
        "        return yhat"
      ],
      "execution_count": null,
      "outputs": []
    },
    {
      "cell_type": "code",
      "metadata": {
        "id": "CR7suUwKtO2s"
      },
      "source": [
        "# Create MSELoss function and DataLoader\n",
        "\n",
        "criterion = nn.MSELoss()\n",
        "trainloader = DataLoader(dataset = train_data, batch_size = 1)"
      ],
      "execution_count": null,
      "outputs": []
    },
    {
      "cell_type": "markdown",
      "metadata": {
        "id": "41dLRR7ltW7s"
      },
      "source": [
        "# Different learning rates and Data Structures to Store results for different Hyperparameters"
      ]
    },
    {
      "cell_type": "code",
      "metadata": {
        "id": "vlJRfVZ5tSEh"
      },
      "source": [
        "# Create Learning Rate list, the error lists and the MODELS list\n",
        "\n",
        "learning_rates=[0.0001, 0.001, 0.01, 0.1]\n",
        "\n",
        "train_error=torch.zeros(len(learning_rates))\n",
        "validation_error=torch.zeros(len(learning_rates))\n",
        "\n",
        "MODELS=[]"
      ],
      "execution_count": null,
      "outputs": []
    },
    {
      "cell_type": "markdown",
      "metadata": {
        "id": "ZnqxHxtqtsqL"
      },
      "source": [
        "# Train different models for different Hyperparameters"
      ]
    },
    {
      "cell_type": "code",
      "metadata": {
        "id": "ihiz_KINtq5f"
      },
      "source": [
        "# Define the train model function and train the model\n",
        "\n",
        "def train_model_with_lr (iter, lr_list):\n",
        "    \n",
        "    # iterate through different learning rates \n",
        "    for i, lr in enumerate(lr_list):\n",
        "        model = linear_regression(1, 1)\n",
        "        optimizer = optim.SGD(model.parameters(), lr = lr)\n",
        "        for epoch in range(iter):\n",
        "            for x, y in trainloader:\n",
        "                yhat = model(x)\n",
        "                loss = criterion(yhat, y)\n",
        "                optimizer.zero_grad()\n",
        "                loss.backward()\n",
        "                optimizer.step()\n",
        "                \n",
        "        # train data\n",
        "        Yhat = model(train_data.x)\n",
        "        train_loss = criterion(Yhat, train_data.y)\n",
        "        train_error[i] = train_loss.item()\n",
        "    \n",
        "        # validation data\n",
        "        Yhat = model(val_data.x)\n",
        "        val_loss = criterion(Yhat, val_data.y)\n",
        "        validation_error[i] = val_loss.item()\n",
        "        MODELS.append(model)\n",
        "\n",
        "train_model_with_lr(10, learning_rates)"
      ],
      "execution_count": null,
      "outputs": []
    },
    {
      "cell_type": "markdown",
      "metadata": {
        "id": "NOOeys2itztk"
      },
      "source": [
        "# View the Results"
      ]
    },
    {
      "cell_type": "code",
      "metadata": {
        "id": "xwiffhR2t2h-",
        "colab": {
          "base_uri": "https://localhost:8080/",
          "height": 283
        },
        "outputId": "3296b535-fd39-4520-c20f-e75e2dc70803"
      },
      "source": [
        "# Plot the training loss and validation loss\n",
        "\n",
        "plt.semilogx(np.array(learning_rates), train_error.numpy(), label = 'training loss/total Loss')\n",
        "plt.semilogx(np.array(learning_rates), validation_error.numpy(), label = 'validation cost/total Loss')\n",
        "plt.ylabel('Cost\\ Total Loss')\n",
        "plt.xlabel('learning rate')\n",
        "plt.legend()\n",
        "plt.show()"
      ],
      "execution_count": null,
      "outputs": [
        {
          "output_type": "display_data",
          "data": {
            "image/png": "[encoded data removed]",
            "text/plain": [
              "<Figure size 432x288 with 1 Axes>"
            ]
          },
          "metadata": {
            "tags": [],
            "needs_background": "light"
          }
        }
      ]
    },
    {
      "cell_type": "code",
      "metadata": {
        "id": "uF0w5xlSuASe",
        "colab": {
          "base_uri": "https://localhost:8080/",
          "height": 483
        },
        "outputId": "bcbe7641-ee0b-4704-8ad2-7d2304c3dd8a"
      },
      "source": [
        "# Plot the predictions\n",
        "\n",
        "i = 0\n",
        "for model, learning_rate in zip(MODELS, learning_rates):\n",
        "    yhat = model(val_data.x)\n",
        "    plt.plot(val_data.x.numpy(), yhat.detach().numpy(), label = 'lr:' + str(learning_rate))\n",
        "    print('i', yhat.detach().numpy()[0:3])\n",
        "plt.plot(val_data.x.numpy(), val_data.f.numpy(), 'or', label = 'validation data')\n",
        "plt.xlabel('x')\n",
        "plt.ylabel('y')\n",
        "plt.legend()\n",
        "plt.show()"
      ],
      "execution_count": null,
      "outputs": [
        {
          "output_type": "stream",
          "text": [
            "i [[1.9510032]\n",
            " [1.8719212]\n",
            " [1.7928389]]\n",
            "i [[5.752445 ]\n",
            " [5.6341906]\n",
            " [5.515937 ]]\n",
            "i [[6.5823975]\n",
            " [6.448839 ]\n",
            " [6.31528  ]]\n",
            "i [[14.486849]\n",
            " [14.051579]\n",
            " [13.616309]]\n"
          ],
          "name": "stdout"
        },
        {
          "output_type": "display_data",
          "data": {
            "image/png": "[encoded data removed]",
            "text/plain": [
              "<Figure size 432x288 with 1 Axes>"
            ]
          },
          "metadata": {
            "tags": [],
            "needs_background": "light"
          }
        }
      ]
    }
  ]
}