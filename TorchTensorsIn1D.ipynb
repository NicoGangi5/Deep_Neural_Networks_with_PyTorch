{
  "nbformat": 4,
  "nbformat_minor": 0,
  "metadata": {
    "colab": {
      "name": "TorchTensorsIn1D.ipynb",
      "provenance": [],
      "authorship_tag": "ABX9TyMGMLhCcwz5szMUu6blJ+gv",
      "include_colab_link": true
    },
    "kernelspec": {
      "name": "python3",
      "display_name": "Python 3"
    }
  },
  "cells": [
    {
      "cell_type": "markdown",
      "metadata": {
        "id": "view-in-github",
        "colab_type": "text"
      },
      "source": [
        "<a href=\"https://colab.research.google.com/github/NicoGangi5/Deep_Neural_Networks_with_PyTorch/blob/main/TorchTensorsIn1D.ipynb\" target=\"_parent\"><img src=\"https://colab.research.google.com/assets/colab-badge.svg\" alt=\"Open In Colab\"/></a>"
      ]
    },
    {
      "cell_type": "code",
      "metadata": {
        "id": "6Ba8-TCyqfNp"
      },
      "source": [
        "# These are the libraries will be used for this lab.\n",
        "\n",
        "import torch \n",
        "import numpy as np \n",
        "import pandas as pd\n",
        "\n",
        "import matplotlib.pyplot as plt\n",
        "%matplotlib inline  "
      ],
      "execution_count": null,
      "outputs": []
    },
    {
      "cell_type": "code",
      "metadata": {
        "id": "MvIv9DorsJoA",
        "colab": {
          "base_uri": "https://localhost:8080/",
          "height": 37
        },
        "outputId": "59fb23f3-47d9-4372-b7b5-9305701e0724"
      },
      "source": [
        "torch.__version__"
      ],
      "execution_count": null,
      "outputs": [
        {
          "output_type": "execute_result",
          "data": {
            "application/vnd.google.colaboratory.intrinsic+json": {
              "type": "string"
            },
            "text/plain": [
              "'1.7.0+cu101'"
            ]
          },
          "metadata": {
            "tags": []
          },
          "execution_count": 2
        }
      ]
    },
    {
      "cell_type": "code",
      "metadata": {
        "id": "iNpDh497sTiO"
      },
      "source": [
        "# Plot vecotrs, please keep the parameters in the same length\n",
        "# @param: Vectors = [{\"vector\": vector variable, \"name\": name of vector, \"color\": color of the vector on diagram}]\n",
        "    \n",
        "def plotVec(vectors):\n",
        "    ax = plt.axes()\n",
        "    \n",
        "    # For loop to draw the vectors\n",
        "    for vec in vectors:\n",
        "        ax.arrow(0, 0, *vec[\"vector\"], head_width = 0.05,color = vec[\"color\"], head_length = 0.1)\n",
        "        plt.text(*(vec[\"vector\"] + 0.1), vec[\"name\"])\n",
        "    \n",
        "    plt.ylim(-2,2)\n",
        "    plt.xlim(-2,2)"
      ],
      "execution_count": null,
      "outputs": []
    },
    {
      "cell_type": "markdown",
      "metadata": {
        "id": "ry-_bGwv3HoB"
      },
      "source": [
        "# Types and Shape"
      ]
    },
    {
      "cell_type": "code",
      "metadata": {
        "id": "qqI4qNbTsec6",
        "colab": {
          "base_uri": "https://localhost:8080/"
        },
        "outputId": "73415f7f-16c5-4abe-e9b5-8629c85a46a4"
      },
      "source": [
        "# Convert a integer list with length 5 to a tensor\n",
        "\n",
        "ints_to_tensor = torch.tensor([0, 1, 2, 3, 4])\n",
        "print(\"The dtype of tensor object after converting it to tensor: \", ints_to_tensor.dtype)\n",
        "print(\"The type of tensor object after converting it to tensor: \", ints_to_tensor.type())"
      ],
      "execution_count": null,
      "outputs": [
        {
          "output_type": "stream",
          "text": [
            "The dtype of tensor object after converting it to tensor:  torch.int64\n",
            "The type of tensor object after converting it to tensor:  torch.LongTensor\n"
          ],
          "name": "stdout"
        }
      ]
    },
    {
      "cell_type": "code",
      "metadata": {
        "id": "96P99qfasojU",
        "colab": {
          "base_uri": "https://localhost:8080/"
        },
        "outputId": "fc43e2f0-6368-4425-9f51-773848610f9c"
      },
      "source": [
        "type(ints_to_tensor)"
      ],
      "execution_count": null,
      "outputs": [
        {
          "output_type": "execute_result",
          "data": {
            "text/plain": [
              "torch.Tensor"
            ]
          },
          "metadata": {
            "tags": []
          },
          "execution_count": 9
        }
      ]
    },
    {
      "cell_type": "code",
      "metadata": {
        "id": "0GtnHBVJsuzM",
        "colab": {
          "base_uri": "https://localhost:8080/"
        },
        "outputId": "a6643b80-c93a-4d29-bad8-31ff8b79778a"
      },
      "source": [
        "# Convert a float list with length 5 to a tensor\n",
        "\n",
        "floats_to_tensor = torch.tensor([0.0, 1.0, 2.0, 3.0, 4.0])\n",
        "print(\"The dtype of tensor object after converting it to tensor: \", floats_to_tensor.dtype)\n",
        "print(\"The type of tensor object after converting it to tensor: \", floats_to_tensor.type())"
      ],
      "execution_count": null,
      "outputs": [
        {
          "output_type": "stream",
          "text": [
            "The dtype of tensor object after converting it to tensor:  torch.float32\n",
            "The type of tensor object after converting it to tensor:  torch.FloatTensor\n"
          ],
          "name": "stdout"
        }
      ]
    },
    {
      "cell_type": "code",
      "metadata": {
        "id": "XMOcT3mis0H1",
        "colab": {
          "base_uri": "https://localhost:8080/"
        },
        "outputId": "879f4827-f9c0-4b39-8a51-515b844c5db8"
      },
      "source": [
        "list_floats=[0.0, 1.0, 2.0, 3.0, 4.0]\n",
        "\n",
        "floats_int_tensor=torch.tensor(list_floats,dtype=torch.int64)\n",
        "\n",
        "print(\"The dtype of tensor object is: \", floats_int_tensor.dtype)\n",
        "print(\"The type of tensor object is: \", floats_int_tensor.type())"
      ],
      "execution_count": null,
      "outputs": [
        {
          "output_type": "stream",
          "text": [
            "The dtype of tensor object is:  torch.int64\n",
            "The type of tensor object is:  torch.LongTensor\n"
          ],
          "name": "stdout"
        }
      ]
    },
    {
      "cell_type": "code",
      "metadata": {
        "id": "4QkDm_AUxRUw",
        "colab": {
          "base_uri": "https://localhost:8080/"
        },
        "outputId": "76f7c676-8543-416c-8ad5-0bdf2be6bd64"
      },
      "source": [
        "# Convert a integer list with length 5 to float tensor\n",
        "\n",
        "new_float_tensor = torch.FloatTensor([0, 1, 2, 3, 4])\n",
        "print(\"The type of the new_float_tensor:\", new_float_tensor.type())"
      ],
      "execution_count": null,
      "outputs": [
        {
          "output_type": "stream",
          "text": [
            "The type of the new_float_tensor: torch.FloatTensor\n"
          ],
          "name": "stdout"
        }
      ]
    },
    {
      "cell_type": "code",
      "metadata": {
        "id": "SvYQSuP_xiH6",
        "colab": {
          "base_uri": "https://localhost:8080/"
        },
        "outputId": "db20dbd2-25f1-4038-c614-6235526560c2"
      },
      "source": [
        "# Another method to convert the integer list to float tensor\n",
        "\n",
        "old_int_tensor = torch.tensor([0, 1, 2, 3, 4])\n",
        "new_float_tensor = old_int_tensor.type(torch.FloatTensor)\n",
        "print(\"The type of the new_float_tensor:\", new_float_tensor.type())"
      ],
      "execution_count": null,
      "outputs": [
        {
          "output_type": "stream",
          "text": [
            "The type of the new_float_tensor: torch.FloatTensor\n"
          ],
          "name": "stdout"
        }
      ]
    },
    {
      "cell_type": "code",
      "metadata": {
        "id": "dowhcXpLxowZ",
        "colab": {
          "base_uri": "https://localhost:8080/"
        },
        "outputId": "576151ff-ec83-4d4e-b545-10056952b04f"
      },
      "source": [
        "# Introduce the tensor_obj.size() & tensor_ndimension.size() methods\n",
        "\n",
        "print(\"The size of the new_float_tensor: \", new_float_tensor.size())\n",
        "print(\"The dimension of the new_float_tensor: \",new_float_tensor.ndimension())"
      ],
      "execution_count": null,
      "outputs": [
        {
          "output_type": "stream",
          "text": [
            "The size of the new_float_tensor:  torch.Size([5])\n",
            "The dimension of the new_float_tensor:  1\n"
          ],
          "name": "stdout"
        }
      ]
    },
    {
      "cell_type": "code",
      "metadata": {
        "id": "SeukuUaxx4lo",
        "colab": {
          "base_uri": "https://localhost:8080/"
        },
        "outputId": "f721b7a1-7782-41e0-f2d2-d51048be9e77"
      },
      "source": [
        "# Introduce the tensor_obj.view(row, column) method\n",
        "\n",
        "twoD_float_tensor = new_float_tensor.view(5,1)\n",
        "print(\"Original Size: \", new_float_tensor)\n",
        "print(\"Size after view method\", twoD_float_tensor)"
      ],
      "execution_count": null,
      "outputs": [
        {
          "output_type": "stream",
          "text": [
            "Original Size:  tensor([0., 1., 2., 3., 4.])\n",
            "Size after view method tensor([[0.],\n",
            "        [1.],\n",
            "        [2.],\n",
            "        [3.],\n",
            "        [4.]])\n"
          ],
          "name": "stdout"
        }
      ]
    },
    {
      "cell_type": "code",
      "metadata": {
        "id": "hvo2_akOyGpw",
        "colab": {
          "base_uri": "https://localhost:8080/"
        },
        "outputId": "81835f39-5fe0-4aa6-8ec2-142406845c36"
      },
      "source": [
        "# Introduce the use of -1 in tensor_obj.view(row, column) method\n",
        "\n",
        "twoD_float_tensor = new_float_tensor.view(-1, 1)\n",
        "print(\"Original Size: \", new_float_tensor)\n",
        "print(\"Size after view method\", twoD_float_tensor)"
      ],
      "execution_count": null,
      "outputs": [
        {
          "output_type": "stream",
          "text": [
            "Original Size:  tensor([0., 1., 2., 3., 4.])\n",
            "Size after view method tensor([[0.],\n",
            "        [1.],\n",
            "        [2.],\n",
            "        [3.],\n",
            "        [4.]])\n"
          ],
          "name": "stdout"
        }
      ]
    },
    {
      "cell_type": "code",
      "metadata": {
        "id": "kL0r2pykyPLG",
        "colab": {
          "base_uri": "https://localhost:8080/"
        },
        "outputId": "6120829b-5b0b-4e6f-d7ee-d8e0abb48cc0"
      },
      "source": [
        "# Convert a numpy array to a tensor\n",
        "\n",
        "numpy_array = np.array([0.0, 1.0, 2.0, 3.0, 4.0])\n",
        "new_tensor = torch.from_numpy(numpy_array)\n",
        "\n",
        "print(\"The dtype of new tensor: \", new_tensor.dtype)\n",
        "print(\"The type of new tensor: \", new_tensor.type())"
      ],
      "execution_count": null,
      "outputs": [
        {
          "output_type": "stream",
          "text": [
            "The dtype of new tensor:  torch.float64\n",
            "The type of new tensor:  torch.DoubleTensor\n"
          ],
          "name": "stdout"
        }
      ]
    },
    {
      "cell_type": "code",
      "metadata": {
        "id": "1N1wBnjyybRX",
        "colab": {
          "base_uri": "https://localhost:8080/"
        },
        "outputId": "46b92b69-08e4-435f-9292-49a6127f3272"
      },
      "source": [
        "# Convert a tensor to a numpy array\n",
        "\n",
        "back_to_numpy = new_tensor.numpy()\n",
        "print(\"The numpy array from tensor: \", back_to_numpy)\n",
        "print(\"The dtype of numpy array: \", back_to_numpy.dtype)"
      ],
      "execution_count": null,
      "outputs": [
        {
          "output_type": "stream",
          "text": [
            "The numpy array from tensor:  [0. 1. 2. 3. 4.]\n",
            "The dtype of numpy array:  float64\n"
          ],
          "name": "stdout"
        }
      ]
    },
    {
      "cell_type": "code",
      "metadata": {
        "id": "ZRfZvdHEyiH8",
        "colab": {
          "base_uri": "https://localhost:8080/"
        },
        "outputId": "36b8f5a1-4512-4c14-cf79-074b4fe263e6"
      },
      "source": [
        "# Set all elements in numpy array to zero \n",
        "numpy_array[:] = 0\n",
        "print(\"The new tensor points to numpy_array : \", new_tensor)\n",
        "print(\"and back to numpy array points to the tensor: \", back_to_numpy)"
      ],
      "execution_count": null,
      "outputs": [
        {
          "output_type": "stream",
          "text": [
            "The new tensor points to numpy_array :  tensor([0., 0., 0., 0., 0.], dtype=torch.float64)\n",
            "and back to numpy array points to the tensor:  [0. 0. 0. 0. 0.]\n"
          ],
          "name": "stdout"
        }
      ]
    },
    {
      "cell_type": "code",
      "metadata": {
        "id": "mUbY2X8_ywL-",
        "colab": {
          "base_uri": "https://localhost:8080/"
        },
        "outputId": "51ae237b-908a-4947-b2cc-ce0c7ee96f09"
      },
      "source": [
        "# Convert a panda series to a tensor\n",
        "\n",
        "pandas_series=pd.Series([0.1, 2, 0.3, 10.1])\n",
        "new_tensor=torch.from_numpy(pandas_series.values)\n",
        "print(\"The new tensor from numpy array: \", new_tensor)\n",
        "print(\"The dtype of new tensor: \", new_tensor.dtype)\n",
        "print(\"The type of new tensor: \", new_tensor.type())"
      ],
      "execution_count": null,
      "outputs": [
        {
          "output_type": "stream",
          "text": [
            "The new tensor from numpy array:  tensor([ 0.1000,  2.0000,  0.3000, 10.1000], dtype=torch.float64)\n",
            "The dtype of new tensor:  torch.float64\n",
            "The type of new tensor:  torch.DoubleTensor\n"
          ],
          "name": "stdout"
        }
      ]
    },
    {
      "cell_type": "code",
      "metadata": {
        "id": "qylGoUDdy4l1",
        "colab": {
          "base_uri": "https://localhost:8080/"
        },
        "outputId": "65c8f3ce-5e99-4d8d-c6fe-0976aee78562"
      },
      "source": [
        "this_tensor=torch.tensor([0,1,2,3]) \n",
        "\n",
        "print(\"the first item is given by\",this_tensor[0].item(),\"the first tensor value is given by \",this_tensor[0])\n",
        "print(\"the second item is given by\",this_tensor[1].item(),\"the second tensor value is given by \",this_tensor[1])\n",
        "print(\"the third  item is given by\",this_tensor[2].item(),\"the third tensor value is given by \",this_tensor[2])"
      ],
      "execution_count": null,
      "outputs": [
        {
          "output_type": "stream",
          "text": [
            "the first item is given by 0 the first tensor value is given by  tensor(0)\n",
            "the second item is given by 1 the second tensor value is given by  tensor(1)\n",
            "the third  item is given by 2 the third tensor value is given by  tensor(2)\n"
          ],
          "name": "stdout"
        }
      ]
    },
    {
      "cell_type": "code",
      "metadata": {
        "id": "xuVHUnKjzC8t",
        "colab": {
          "base_uri": "https://localhost:8080/"
        },
        "outputId": "7ca90ee8-2653-4dda-e053-172ed474ff2b"
      },
      "source": [
        "torch_to_list=this_tensor.tolist()\n",
        "\n",
        "print('tensor:', this_tensor,\"\\nlist:\",torch_to_list)"
      ],
      "execution_count": null,
      "outputs": [
        {
          "output_type": "stream",
          "text": [
            "tensor: tensor([0, 1, 2, 3]) \n",
            "list: [0, 1, 2, 3]\n"
          ],
          "name": "stdout"
        }
      ]
    },
    {
      "cell_type": "code",
      "metadata": {
        "id": "IIfrMZJzzpEu",
        "colab": {
          "base_uri": "https://localhost:8080/"
        },
        "outputId": "ee289da2-a2e8-4380-9793-857a2887a59f"
      },
      "source": [
        "# Practice: convert the following tensor to a tensor object with 1 row and 5 columns\n",
        "\n",
        "your_tensor = torch.tensor([1, 2, 3, 4, 5])\n",
        "\n",
        "twoD_tensor = your_tensor.view(-1,1)\n",
        "print(\"Original Size: \", your_tensor)\n",
        "print(\"Size after view method\", twoD_tensor)"
      ],
      "execution_count": null,
      "outputs": [
        {
          "output_type": "stream",
          "text": [
            "Original Size:  tensor([1, 2, 3, 4, 5])\n",
            "Size after view method tensor([[1],\n",
            "        [2],\n",
            "        [3],\n",
            "        [4],\n",
            "        [5]])\n"
          ],
          "name": "stdout"
        }
      ]
    },
    {
      "cell_type": "markdown",
      "metadata": {
        "id": "-bSepIiS2-v7"
      },
      "source": [
        "# Indexing and Slicing"
      ]
    },
    {
      "cell_type": "code",
      "metadata": {
        "id": "S6RxG8yf0TuG",
        "colab": {
          "base_uri": "https://localhost:8080/"
        },
        "outputId": "3c39313b-e203-4cc3-d31d-08a260c1bf85"
      },
      "source": [
        "# A tensor for showing how the indexs work on tensors\n",
        "\n",
        "index_tensor = torch.tensor([0, 1, 2, 3, 4])\n",
        "print(\"The value on index 0:\",index_tensor[0])\n",
        "print(\"The value on index 1:\",index_tensor[1])\n",
        "print(\"The value on index 2:\",index_tensor[2])\n",
        "print(\"The value on index 3:\",index_tensor[3])\n",
        "print(\"The value on index 4:\",index_tensor[4])"
      ],
      "execution_count": null,
      "outputs": [
        {
          "output_type": "stream",
          "text": [
            "The value on index 0: tensor(0)\n",
            "The value on index 1: tensor(1)\n",
            "The value on index 2: tensor(2)\n",
            "The value on index 3: tensor(3)\n",
            "The value on index 4: tensor(4)\n"
          ],
          "name": "stdout"
        }
      ]
    },
    {
      "cell_type": "code",
      "metadata": {
        "id": "4wKJVfMq0avE"
      },
      "source": [
        "# A tensor for showing how to change value according to the index\n",
        "\n",
        "tensor_sample = torch.tensor([20, 1, 2, 3, 4])"
      ],
      "execution_count": null,
      "outputs": []
    },
    {
      "cell_type": "code",
      "metadata": {
        "id": "CTSOyF3H0it2",
        "colab": {
          "base_uri": "https://localhost:8080/"
        },
        "outputId": "87952203-5963-4e60-90c4-1c66d1b5f809"
      },
      "source": [
        "# Change the value on the index 0 to 100\n",
        "\n",
        "print(\"Inital value on index 0:\", tensor_sample[0])\n",
        "tensor_sample[0] = 100\n",
        "print(\"Modified tensor:\", tensor_sample)"
      ],
      "execution_count": null,
      "outputs": [
        {
          "output_type": "stream",
          "text": [
            "Inital value on index 0: tensor(20)\n",
            "Modified tensor: tensor([100,   1,   2,   3,   4])\n"
          ],
          "name": "stdout"
        }
      ]
    },
    {
      "cell_type": "code",
      "metadata": {
        "id": "tB6JCkAK0mAt",
        "colab": {
          "base_uri": "https://localhost:8080/"
        },
        "outputId": "ab778d95-30d0-4cb8-a26e-d9506db2bf01"
      },
      "source": [
        "# Change the value on the index 4 to 0\n",
        "\n",
        "print(\"Inital value on index 4:\", tensor_sample[4])\n",
        "tensor_sample[4] = 0\n",
        "print(\"Modified tensor:\", tensor_sample)"
      ],
      "execution_count": null,
      "outputs": [
        {
          "output_type": "stream",
          "text": [
            "Inital value on index 4: tensor(4)\n",
            "Modified tensor: tensor([100,   1,   2,   3,   0])\n"
          ],
          "name": "stdout"
        }
      ]
    },
    {
      "cell_type": "code",
      "metadata": {
        "id": "luhTMtWA0z5K",
        "colab": {
          "base_uri": "https://localhost:8080/"
        },
        "outputId": "bf780bbf-fecf-4b29-8ba7-6b0c6f2595df"
      },
      "source": [
        "# Slice tensor_sample\n",
        "\n",
        "subset_tensor_sample = tensor_sample[1:4]\n",
        "print(\"Original tensor sample: \", tensor_sample)\n",
        "print(\"The subset of tensor sample:\", subset_tensor_sample)"
      ],
      "execution_count": null,
      "outputs": [
        {
          "output_type": "stream",
          "text": [
            "Original tensor sample:  tensor([100,   1,   2,   3,   0])\n",
            "The subset of tensor sample: tensor([1, 2, 3])\n"
          ],
          "name": "stdout"
        }
      ]
    },
    {
      "cell_type": "code",
      "metadata": {
        "id": "lAfIdntx1DFa",
        "colab": {
          "base_uri": "https://localhost:8080/"
        },
        "outputId": "0c37a921-f724-4fed-c112-d62803090518"
      },
      "source": [
        "# Change the values on index 3 and index 4\n",
        "\n",
        "print(\"Inital value on index 3 and index 4:\", tensor_sample[3:5])\n",
        "tensor_sample[3:5] = torch.tensor([300.0, 400.0])\n",
        "print(\"Modified tensor:\", tensor_sample)"
      ],
      "execution_count": null,
      "outputs": [
        {
          "output_type": "stream",
          "text": [
            "Inital value on index 3 and index 4: tensor([3, 0])\n",
            "Modified tensor: tensor([100,   1,   2, 300, 400])\n"
          ],
          "name": "stdout"
        }
      ]
    },
    {
      "cell_type": "code",
      "metadata": {
        "id": "jBtnzQou1TDf",
        "colab": {
          "base_uri": "https://localhost:8080/"
        },
        "outputId": "2b3c79b1-d6fc-4930-daa3-90a822c8ab40"
      },
      "source": [
        "# Using variable to contain the selected index, and pass it to slice operation\n",
        "\n",
        "selected_indexes = [3, 4]\n",
        "subset_tensor_sample = tensor_sample[selected_indexes]\n",
        "print(\"The inital tensor_sample\", tensor_sample)\n",
        "print(\"The subset of tensor_sample with the values on index 3 and 4: \", subset_tensor_sample)"
      ],
      "execution_count": null,
      "outputs": [
        {
          "output_type": "stream",
          "text": [
            "The inital tensor_sample tensor([100,   1,   2, 300, 400])\n",
            "The subset of tensor_sample with the values on index 3 and 4:  tensor([300, 400])\n"
          ],
          "name": "stdout"
        }
      ]
    },
    {
      "cell_type": "code",
      "metadata": {
        "id": "wxljRobI1qT3",
        "colab": {
          "base_uri": "https://localhost:8080/"
        },
        "outputId": "1752e880-8dd3-4928-a4fc-6f385046c001"
      },
      "source": [
        "#Using variable to assign the value to the selected indexes\n",
        "\n",
        "print(\"The inital tensor_sample\", tensor_sample)\n",
        "selected_indexes = [1, 3]\n",
        "tensor_sample[selected_indexes] = 100000\n",
        "print(\"Modified tensor with one value: \", tensor_sample)"
      ],
      "execution_count": null,
      "outputs": [
        {
          "output_type": "stream",
          "text": [
            "The inital tensor_sample tensor([100,   1,   2, 300, 400])\n",
            "Modified tensor with one value:  tensor([   100, 100000,      2, 100000,    400])\n"
          ],
          "name": "stdout"
        }
      ]
    },
    {
      "cell_type": "code",
      "metadata": {
        "id": "wkLGG3h115D5",
        "colab": {
          "base_uri": "https://localhost:8080/"
        },
        "outputId": "e3546741-6fdb-4664-8540-64295784367a"
      },
      "source": [
        "# Practice: Change the values on index 3, 4, 7 to 0\n",
        "\n",
        "practice_tensor = torch.tensor([2, 7, 3, 4, 6, 2, 3, 1, 2])\n",
        "print(\"The inital tensor_sample\", practice_tensor)\n",
        "selected_indexes = [3, 4, 7]\n",
        "practice_tensor[selected_indexes] = 0\n",
        "print(\"Modified tensor with one value: \", practice_tensor)"
      ],
      "execution_count": null,
      "outputs": [
        {
          "output_type": "stream",
          "text": [
            "The inital tensor_sample tensor([2, 7, 3, 4, 6, 2, 3, 1, 2])\n",
            "Modified tensor with one value:  tensor([2, 7, 3, 0, 0, 2, 3, 0, 2])\n"
          ],
          "name": "stdout"
        }
      ]
    },
    {
      "cell_type": "markdown",
      "metadata": {
        "id": "8iWodPJw234m"
      },
      "source": [
        "# Tensor Functions"
      ]
    },
    {
      "cell_type": "code",
      "metadata": {
        "id": "Q9qDt-V02RTT",
        "colab": {
          "base_uri": "https://localhost:8080/"
        },
        "outputId": "218dcd05-6a8d-4fe7-e56f-c699b8dc9e0c"
      },
      "source": [
        "# Sample tensor for mathmatic calculation methods on tensor\n",
        "\n",
        "math_tensor = torch.tensor([1.0, -1.0, 1, -1])\n",
        "print(\"Tensor example: \", math_tensor)"
      ],
      "execution_count": null,
      "outputs": [
        {
          "output_type": "stream",
          "text": [
            "Tensor example:  tensor([ 1., -1.,  1., -1.])\n"
          ],
          "name": "stdout"
        }
      ]
    },
    {
      "cell_type": "code",
      "metadata": {
        "id": "Z09QuTRx3Qae",
        "colab": {
          "base_uri": "https://localhost:8080/"
        },
        "outputId": "fbfc76fc-86a6-430c-e9ed-9f1de045d858"
      },
      "source": [
        "#Calculate the mean for math_tensor\n",
        "\n",
        "mean = math_tensor.mean()\n",
        "print(\"The mean of math_tensor: \", mean)"
      ],
      "execution_count": null,
      "outputs": [
        {
          "output_type": "stream",
          "text": [
            "The mean of math_tensor:  tensor(0.)\n"
          ],
          "name": "stdout"
        }
      ]
    },
    {
      "cell_type": "code",
      "metadata": {
        "id": "R0H654DP3UEf",
        "colab": {
          "base_uri": "https://localhost:8080/"
        },
        "outputId": "ca3dc15a-e5ce-4cf6-d06e-fde23174ea7d"
      },
      "source": [
        "#Calculate the standard deviation for math_tensor\n",
        "\n",
        "standard_deviation = math_tensor.std()\n",
        "print(\"The standard deviation of math_tensor: \", standard_deviation)"
      ],
      "execution_count": null,
      "outputs": [
        {
          "output_type": "stream",
          "text": [
            "The standard deviation of math_tensor:  tensor(1.1547)\n"
          ],
          "name": "stdout"
        }
      ]
    },
    {
      "cell_type": "code",
      "metadata": {
        "id": "6sx4gyHx3kQO",
        "colab": {
          "base_uri": "https://localhost:8080/"
        },
        "outputId": "770e0e3e-7b66-4ca0-b8d5-5955ffb331e2"
      },
      "source": [
        "# Sample for introducing max and min methods\n",
        "\n",
        "max_min_tensor = torch.tensor([-1, 1, 3, 5, 5])\n",
        "print(\"Tensor example: \", max_min_tensor)\n",
        "\n",
        "# Method for finding the maximum value in the tensor\n",
        "\n",
        "max_val = max_min_tensor.max()\n",
        "print(\"Maximum number in the tensor: \", max_val)\n",
        "\n",
        "# Method for finding the minimum value in the tensor\n",
        "\n",
        "min_val = max_min_tensor.min()\n",
        "print(\"Minimum number in the tensor: \", min_val)"
      ],
      "execution_count": null,
      "outputs": [
        {
          "output_type": "stream",
          "text": [
            "Tensor example:  tensor([-1,  1,  3,  5,  5])\n",
            "Maximum number in the tensor:  tensor(5)\n",
            "Minimum number in the tensor:  tensor(-1)\n"
          ],
          "name": "stdout"
        }
      ]
    },
    {
      "cell_type": "code",
      "metadata": {
        "id": "YMSwTdU_37XT",
        "colab": {
          "base_uri": "https://localhost:8080/"
        },
        "outputId": "75bdeb3d-1f45-40c0-af44-a6f63f0d72f9"
      },
      "source": [
        "# Method for calculating the sin result of each element in the tensor\n",
        "\n",
        "pi_tensor = torch.tensor([0, np.pi/2, np.pi])\n",
        "sin = torch.sin(pi_tensor)\n",
        "print(\"The sin result of pi_tensor: \", sin)"
      ],
      "execution_count": null,
      "outputs": [
        {
          "output_type": "stream",
          "text": [
            "The sin result of pi_tensor:  tensor([ 0.0000e+00,  1.0000e+00, -8.7423e-08])\n"
          ],
          "name": "stdout"
        }
      ]
    },
    {
      "cell_type": "code",
      "metadata": {
        "id": "4NJ-OWfK4I8h",
        "colab": {
          "base_uri": "https://localhost:8080/"
        },
        "outputId": "0bf9d37d-3c00-442a-d3f8-4b9b38d620dc"
      },
      "source": [
        "# First try on using linspace to create tensor\n",
        "\n",
        "len_5_tensor = torch.linspace(-2, 2, steps = 5)\n",
        "print (\"First Try on linspace\", len_5_tensor)"
      ],
      "execution_count": null,
      "outputs": [
        {
          "output_type": "stream",
          "text": [
            "First Try on linspace tensor([-2., -1.,  0.,  1.,  2.])\n"
          ],
          "name": "stdout"
        }
      ]
    },
    {
      "cell_type": "code",
      "metadata": {
        "id": "wt-OosTO4Myp",
        "colab": {
          "base_uri": "https://localhost:8080/"
        },
        "outputId": "cb73b1fe-95a5-45fb-8c76-6abc229197e1"
      },
      "source": [
        "# Second try on using linspace to create tensor\n",
        "\n",
        "len_9_tensor = torch.linspace(-2, 2, steps = 9)\n",
        "print (\"Second Try on linspace\", len_9_tensor)"
      ],
      "execution_count": null,
      "outputs": [
        {
          "output_type": "stream",
          "text": [
            "Second Try on linspace tensor([-2.0000, -1.5000, -1.0000, -0.5000,  0.0000,  0.5000,  1.0000,  1.5000,\n",
            "         2.0000])\n"
          ],
          "name": "stdout"
        }
      ]
    },
    {
      "cell_type": "code",
      "metadata": {
        "id": "wjcAPq7t4PrL",
        "colab": {
          "base_uri": "https://localhost:8080/",
          "height": 282
        },
        "outputId": "90185268-84a1-431f-90c6-e95c8d3c8608"
      },
      "source": [
        "# Construct the tensor within 0 to 360 degree\n",
        "\n",
        "pi_tensor = torch.linspace(0, 2*np.pi, 100)\n",
        "sin_result = torch.sin(pi_tensor)\n",
        "\n",
        "# Plot sin_result\n",
        "\n",
        "plt.plot(pi_tensor.numpy(), sin_result.numpy())"
      ],
      "execution_count": null,
      "outputs": [
        {
          "output_type": "execute_result",
          "data": {
            "text/plain": [
              "[<matplotlib.lines.Line2D at 0x7f89abd404e0>]"
            ]
          },
          "metadata": {
            "tags": []
          },
          "execution_count": 67
        },
        {
          "output_type": "display_data",
          "data": {
            "image/png": "[encoded data removed]",
            "text/plain": [
              "<Figure size 432x288 with 1 Axes>"
            ]
          },
          "metadata": {
            "tags": [],
            "needs_background": "light"
          }
        }
      ]
    },
    {
      "cell_type": "code",
      "metadata": {
        "id": "eNIqHWwk4sFo",
        "colab": {
          "base_uri": "https://localhost:8080/",
          "height": 316
        },
        "outputId": "429ef31f-e2f2-415f-c756-f759eb4109c3"
      },
      "source": [
        "# Practice: Create your tensor, print max and min number, plot the sin result diagram\n",
        "\n",
        "# Construct the tensor within 0 to 90 degree\n",
        "pi_tensor_practice = torch.linspace(0, np.pi/2, 25)\n",
        "sin_tensor_result = torch.sin(pi_tensor_practice)\n",
        "\n",
        "# Method for finding the maximum value in the tensor\n",
        "max_val_result = sin_tensor_result.max()\n",
        "print(\"Maximum number in the tensor: \", max_val_result)\n",
        "\n",
        "# Method for finding the minimum value in the tensor\n",
        "min_val_result = sin_tensor_result.min()\n",
        "print(\"Minimum number in the tensor: \", min_val_result)\n",
        "\n",
        "# Plot sin_result\n",
        "plt.plot(pi_tensor_practice.numpy(), sin_tensor_result.numpy())"
      ],
      "execution_count": null,
      "outputs": [
        {
          "output_type": "stream",
          "text": [
            "Maximum number in the tensor:  tensor(1.)\n",
            "Minimum number in the tensor:  tensor(0.)\n"
          ],
          "name": "stdout"
        },
        {
          "output_type": "execute_result",
          "data": {
            "text/plain": [
              "[<matplotlib.lines.Line2D at 0x7f89aba71400>]"
            ]
          },
          "metadata": {
            "tags": []
          },
          "execution_count": 68
        },
        {
          "output_type": "display_data",
          "data": {
            "image/png": "[encoded data removed]",
            "text/plain": [
              "<Figure size 432x288 with 1 Axes>"
            ]
          },
          "metadata": {
            "tags": [],
            "needs_background": "light"
          }
        }
      ]
    },
    {
      "cell_type": "markdown",
      "metadata": {
        "id": "BaNA0ru65rjS"
      },
      "source": [
        "# Tensor Operations"
      ]
    },
    {
      "cell_type": "code",
      "metadata": {
        "id": "66SGvQn05vRT"
      },
      "source": [
        "# Create two sample tensors\n",
        "\n",
        "u = torch.tensor([1, 0])\n",
        "v = torch.tensor([0, 1])"
      ],
      "execution_count": null,
      "outputs": []
    },
    {
      "cell_type": "code",
      "metadata": {
        "id": "m7uqLKR16Frd",
        "colab": {
          "base_uri": "https://localhost:8080/"
        },
        "outputId": "6e54067b-5401-4891-d80f-2f4c4bad740a"
      },
      "source": [
        "# Add u and v\n",
        "\n",
        "w = u + v\n",
        "print(\"The result tensor: \", w)"
      ],
      "execution_count": null,
      "outputs": [
        {
          "output_type": "stream",
          "text": [
            "The result tensor:  tensor([1, 1])\n"
          ],
          "name": "stdout"
        }
      ]
    },
    {
      "cell_type": "code",
      "metadata": {
        "id": "PPS7bQG16IP0",
        "colab": {
          "base_uri": "https://localhost:8080/",
          "height": 269
        },
        "outputId": "b9ba6481-f8a6-498e-f733-c92cae8122b8"
      },
      "source": [
        "# Plot u, v, w\n",
        "\n",
        "plotVec([\n",
        "    {\"vector\": u.numpy(), \"name\": 'u', \"color\": 'r'},\n",
        "    {\"vector\": v.numpy(), \"name\": 'v', \"color\": 'b'},\n",
        "    {\"vector\": w.numpy(), \"name\": 'w', \"color\": 'g'}\n",
        "])"
      ],
      "execution_count": null,
      "outputs": [
        {
          "output_type": "display_data",
          "data": {
            "image/png": "[encoded data removed]",
            "text/plain": [
              "<Figure size 432x288 with 1 Axes>"
            ]
          },
          "metadata": {
            "tags": [],
            "needs_background": "light"
          }
        }
      ]
    },
    {
      "cell_type": "code",
      "metadata": {
        "id": "LfXwSRLK6xzF",
        "colab": {
          "base_uri": "https://localhost:8080/"
        },
        "outputId": "c1bcc478-1205-4e55-d5d7-3432b386613c"
      },
      "source": [
        "# Try by yourself to get a result of u-v\n",
        "\n",
        "u = torch.tensor([1, 0])\n",
        "v = torch.tensor([0, 1])\n",
        "\n",
        "w = u - v\n",
        "print(\"The result tensor: \", w)"
      ],
      "execution_count": null,
      "outputs": [
        {
          "output_type": "stream",
          "text": [
            "The result tensor:  tensor([ 1, -1])\n"
          ],
          "name": "stdout"
        }
      ]
    },
    {
      "cell_type": "code",
      "metadata": {
        "id": "7BBanzTH7DRp",
        "colab": {
          "base_uri": "https://localhost:8080/"
        },
        "outputId": "05df30e3-1dc3-433b-dc9c-cc301a9491da"
      },
      "source": [
        "# tensor + scalar\n",
        "\n",
        "u = torch.tensor([1, 2, 3, -1])\n",
        "v = u + 1\n",
        "print (\"Addition Result: \", v)"
      ],
      "execution_count": null,
      "outputs": [
        {
          "output_type": "stream",
          "text": [
            "Addition Result:  tensor([2, 3, 4, 0])\n"
          ],
          "name": "stdout"
        }
      ]
    },
    {
      "cell_type": "code",
      "metadata": {
        "id": "kOJAMQGi7LFC",
        "colab": {
          "base_uri": "https://localhost:8080/"
        },
        "outputId": "e561110a-3e74-45f9-c639-84abccf879b0"
      },
      "source": [
        "# tensor * scalar\n",
        "\n",
        "u = torch.tensor([1, 2])\n",
        "v = 2 * u\n",
        "print(\"The result of 2 * u: \", v)"
      ],
      "execution_count": null,
      "outputs": [
        {
          "output_type": "stream",
          "text": [
            "The result of 2 * u:  tensor([2, 4])\n"
          ],
          "name": "stdout"
        }
      ]
    },
    {
      "cell_type": "code",
      "metadata": {
        "id": "ld8MOSN87X55",
        "colab": {
          "base_uri": "https://localhost:8080/"
        },
        "outputId": "be565546-f404-4ea6-d5c0-0a6df9f338e8"
      },
      "source": [
        "# tensor * tensor\n",
        "\n",
        "u = torch.tensor([1, 2])\n",
        "v = torch.tensor([3, 2])\n",
        "w = u * v\n",
        "print (\"The result of u * v\", w)"
      ],
      "execution_count": null,
      "outputs": [
        {
          "output_type": "stream",
          "text": [
            "The result of u * v tensor([3, 4])\n"
          ],
          "name": "stdout"
        }
      ]
    },
    {
      "cell_type": "code",
      "metadata": {
        "id": "P3cvIvnW7bhh",
        "colab": {
          "base_uri": "https://localhost:8080/"
        },
        "outputId": "c7f30589-4ddb-4ac1-f212-dc9c2fc09bc4"
      },
      "source": [
        "# Calculate dot product of u, v\n",
        "\n",
        "u = torch.tensor([1, 2])\n",
        "v = torch.tensor([3, 2])\n",
        "\n",
        "print(\"Dot Product of u, v:\", torch.dot(u,v))"
      ],
      "execution_count": null,
      "outputs": [
        {
          "output_type": "stream",
          "text": [
            "Dot Product of u, v: tensor(7)\n"
          ],
          "name": "stdout"
        }
      ]
    },
    {
      "cell_type": "code",
      "metadata": {
        "id": "_37QOhRP7jLB",
        "colab": {
          "base_uri": "https://localhost:8080/",
          "height": 354
        },
        "outputId": "766fb617-6c1b-4e18-f963-d1cb724b52ff"
      },
      "source": [
        "# Create u & v lists\n",
        "u_list = [-1, 1]\n",
        "v_list = [1, 1]\n",
        "\n",
        "print(\"u list: \", u_list)\n",
        "print(\"v list: \", v_list)\n",
        "\n",
        "# Create u & v tensor\n",
        "u = torch.tensor(u_list)\n",
        "v = torch.tensor(v_list)\n",
        "\n",
        "print(\"u tensor: \", u)\n",
        "print(\"v tensor: \", v)\n",
        "\n",
        "# Plot u, v\n",
        "plotVec([\n",
        "    {\"vector\": u.numpy(), \"name\": 'u', \"color\": 'r'},\n",
        "    {\"vector\": v.numpy(), \"name\": 'v', \"color\": 'b'}\n",
        "])\n",
        "\n",
        "# Calculate dot product of u, v\n",
        "u = torch.tensor([1, 2])\n",
        "v = torch.tensor([3, 2])\n",
        "\n",
        "print(\"Dot Product of u, v:\", torch.dot(u,v))"
      ],
      "execution_count": null,
      "outputs": [
        {
          "output_type": "stream",
          "text": [
            "u list:  [-1, 1]\n",
            "v list:  [1, 1]\n",
            "u tensor:  tensor([-1,  1])\n",
            "v tensor:  tensor([1, 1])\n",
            "Dot Product of u, v: tensor(7)\n"
          ],
          "name": "stdout"
        },
        {
          "output_type": "display_data",
          "data": {
            "image/png": "[encoded data removed]",
            "text/plain": [
              "<Figure size 432x288 with 1 Axes>"
            ]
          },
          "metadata": {
            "tags": [],
            "needs_background": "light"
          }
        }
      ]
    }
  ]
}